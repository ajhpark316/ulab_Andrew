





# Your comments here








# Your code here
def arithmetic_operations(3, 4):






# Your thinking process and description here





# Your code here





# Your thinking process and response here





# Your code here





# Your thinking process and description here





# Your code here








# Your code here





# Your code here





# Your code here





# Your comment here
