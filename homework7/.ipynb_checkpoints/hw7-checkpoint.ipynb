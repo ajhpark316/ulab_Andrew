{
 "cells": [
  {
   "cell_type": "markdown",
   "id": "21a1f0d2-d75c-4443-b816-1d1db3760454",
   "metadata": {},
   "source": [
    "# HW 7 - Libraries + Modules\n",
    "ULAB - Physics and Astronomy Division \\\n",
    "Due **Wednesday, November 6th, 2024 at 11:59pm** on Gradescope\n",
    "\n",
    "--------------------------------------------------------------\n",
    "\n",
    "## Module vs. Package vs. Library\n",
    "### Module\n",
    "A **module** is a single file containing Python code (typically ending in a `.py` extension) that contains functions and variables. \n",
    "- They can be imported into other Python files or notebooks\n",
    "- You use modules to organize code into smaller, reuseable parts\n",
    "- Ex: `even_sum.py` that we created during lecture.\n",
    "\n",
    "*You will create your OWN module for this homework and use that we made during class.*\n",
    "\n",
    "### Package\n",
    "A **package** is a group of modules, organized like a directory. \n",
    "- A package requires a special `__init__.py` file to tell Python that the ENTIRE directory is something you would like to import.\n",
    "- Packages can contain sub-pacakges\n",
    "- Ex: `BAGLE_Microlensing` is an example of a package (if you are in Dex's group, this should be familar to you). Or you could think of `paarti` if you are in Brianna's group.\n",
    "\n",
    "*You will NOT be working with a package for this homework.*\n",
    "\n",
    "### Library\n",
    "A **library** is a much broader term that also refers to a collection of modules (like a package) but a library can also contain mulitple packages. \n",
    "- Libraries serve a much wider range of functionality for\n",
    "- Programmers use packages to have ready-to-go tools that can be used for data manipulation, web development, machine learning or simulations.\n",
    "- Ex: `numpy` is a very common library. Later in this course we will also be working some of the following libraries `matplotlib`, `scipy`, and `astropy`, `pandas`, etc\n",
    "\n",
    "*You WILL be working with the extensive numpy library for this homework!*\n",
    "\n",
    "--------------------------------------------------------------"
   ]
  },
  {
   "cell_type": "markdown",
   "id": "8dc7e46b-1e8e-486c-a2e9-d615c687028b",
   "metadata": {},
   "source": [
    "# 1 NumPy\n",
    "**NumPy** (aka Numerical Python) is a library that was designed for caring out computations in Python. \n",
    "\n",
    "We did not have a ton of time to work through examples during class, so I will ask that you check out this website for more information: https://numpy.org/doc/ \n",
    "\n",
    "Before we can work through any problems, you need to call the following in your notebook:"
   ]
  },
  {
   "cell_type": "code",
   "execution_count": 1,
   "id": "08dabd73-3dbc-4aab-843a-d4b81102835d",
   "metadata": {},
   "outputs": [],
   "source": [
    "import numpy as np"
   ]
  },
  {
   "cell_type": "markdown",
   "id": "92c77920-20fc-455e-bf52-10b5a518ed2d",
   "metadata": {},
   "source": [
    "## 1.1 Lists vs. Arrays\n",
    "*When I first started working with NumPy I didn't understand what was so special about arrays. This homework problem should help illustrate the difference. Make sure to follow each step and follow good coding practices.*\n",
    "\n",
    "1) Make a list called `my_list` and make an array called `my_arr` with the same values. There is an example below, but don't copy mine! Ex:\n",
    "```\n",
    "my_list = [11, 12, 13, 14, 15]\n",
    "my_arr = np.array([11, 12, 13, 14, 15])\n",
    "```\n",
    "*Notice that to use the `numpy` package we had to call its short cut `np` and then call upon its funciton `.array()`. This is similar to working with a built-in python function like `.append()`.*"
   ]
  },
  {
   "cell_type": "code",
   "execution_count": 2,
   "id": "494f31ac-a231-4f65-b202-e85208d6bee4",
   "metadata": {},
   "outputs": [],
   "source": [
    "# Your code here\n",
    "\n",
    "my_list = [1, 2, 3, 4, 5]\n",
    "my_arr = np.array([1, 2, 3, 4, 5])"
   ]
  },
  {
   "cell_type": "markdown",
   "id": "861d42c4-411e-4ef9-b85c-68e1f61c4fcb",
   "metadata": {},
   "source": [
    "2) Multiply `my_list` by 4 and multiply `my_arr` by 4. Print the results. Describe what happens in a comment."
   ]
  },
  {
   "cell_type": "code",
   "execution_count": 12,
   "id": "79245f57-3a83-4300-96d2-ea7a9035d3eb",
   "metadata": {},
   "outputs": [
    {
     "name": "stdout",
     "output_type": "stream",
     "text": [
      "[1, 2, 3, 4, 5, 1, 2, 3, 4, 5, 1, 2, 3, 4, 5, 1, 2, 3, 4, 5]\n",
      "[ 4  8 12 16 20]\n"
     ]
    }
   ],
   "source": [
    "# Your code here\n",
    "\n",
    "my_list_multiplied = my_list * 4\n",
    "print(my_list_multiplied)\n",
    "\n",
    "my_arr_multiplied = my_arr * 4\n",
    "print(my_arr_multiplied)\n",
    "\n",
    "# It appears that while my_arr multiplies the actual values inside of it by 4, my_list instead just repeats the values given four times."
   ]
  },
  {
   "cell_type": "markdown",
   "id": "aa2dc2fb-7a26-42e8-90db-18d1598f4d7c",
   "metadata": {},
   "source": [
    "3) Add `my_list` with `my_list`. Add `my_arr` with `my_arr`. Add `my_list` with `my_arr`. Print the results. Describe what happens in a comment."
   ]
  },
  {
   "cell_type": "code",
   "execution_count": 14,
   "id": "9f18f22e-3137-4aa9-b623-6d2c0caec4c3",
   "metadata": {},
   "outputs": [
    {
     "name": "stdout",
     "output_type": "stream",
     "text": [
      "[1, 2, 3, 4, 5, 1, 2, 3, 4, 5]\n",
      "[ 2  4  6  8 10]\n"
     ]
    }
   ],
   "source": [
    "# Your code here\n",
    "\n",
    "my_list_added = my_list + my_list\n",
    "my_arr_added = my_arr + my_arr\n",
    "\n",
    "print(my_list_added)\n",
    "print(my_arr_added)\n",
    "\n",
    "# When my_list is added to itself, it just repeats its given values while my_arr actually adds doubles its given values."
   ]
  },
  {
   "cell_type": "markdown",
   "id": "3be18720-756f-43d1-bad7-bd85e138ef7e",
   "metadata": {},
   "source": [
    "4) Subtract `my_list` with `my_list`. Subtract `my_arr` with `my_arr`. Subtract `my_list` with `my_arr`. Print the results. Describe what happens in a comment."
   ]
  },
  {
   "cell_type": "code",
   "execution_count": 17,
   "id": "131b09c8-d352-4566-b710-31316483ae89",
   "metadata": {},
   "outputs": [
    {
     "name": "stdout",
     "output_type": "stream",
     "text": [
      "[0 0 0 0 0]\n"
     ]
    }
   ],
   "source": [
    "# Your code here\n",
    "\n",
    "# my_list_subtracted = my_list - my_list\n",
    "my_arr_subtracted = my_arr - my_arr\n",
    "\n",
    "# print(my_list_subtracted)\n",
    "print(my_arr_subtracted)\n",
    "\n",
    "# When I attempt to subtract my_list from my_list, an error occurs while my_arr properly subtracts itself."
   ]
  },
  {
   "cell_type": "markdown",
   "id": "9089eff6-4251-4a52-b263-c77b11343ece",
   "metadata": {},
   "source": [
    "5) Multiply `my_list` with `my_list`. Multply `my_arr` with `my_arr`. Multiply `my_list` with `my_arr`. Print the results. Describe what happens in a comment."
   ]
  },
  {
   "cell_type": "code",
   "execution_count": 20,
   "id": "cae7749f-cc6e-45d6-9e07-72aa2cefc0b6",
   "metadata": {},
   "outputs": [
    {
     "name": "stdout",
     "output_type": "stream",
     "text": [
      "[ 1  4  9 16 25]\n"
     ]
    }
   ],
   "source": [
    "# Your code here\n",
    "\n",
    "# my_list_multiplied_by_my_list = my_list * my_list\n",
    "my_arr_multiplied_by_my_arr = my_arr * my_arr\n",
    "\n",
    "# print(my_list_multiplied_by_my_list)\n",
    "print(my_arr_multiplied_by_my_arr)\n",
    "\n",
    "# My_list multiplied by my_list gives me an error while my_arr multiplied by my_arr properly squares its values."
   ]
  },
  {
   "cell_type": "markdown",
   "id": "55175f6e-e6b2-41b1-8015-5f1b099664e8",
   "metadata": {},
   "source": [
    "7) Divide `my_list` with `my_list`. Divide `my_arr` with `my_arr`. Divide `my_list` with `my_arr`. Print the results. Describe what happens in a comment."
   ]
  },
  {
   "cell_type": "code",
   "execution_count": 23,
   "id": "ccdc8e13-ec41-4b79-8034-0934c012580e",
   "metadata": {},
   "outputs": [
    {
     "name": "stdout",
     "output_type": "stream",
     "text": [
      "[1. 1. 1. 1. 1.]\n"
     ]
    }
   ],
   "source": [
    "# Your code here\n",
    "\n",
    "# my_list_divided = my_list / my_list\n",
    "my_arr_divided = my_arr / my_arr\n",
    "\n",
    "# print(my_list_divided)\n",
    "print(my_arr_divided)\n",
    "\n",
    "# Once again, my_list brings up an error when it is divided and my_arr properly divdes it values."
   ]
  },
  {
   "cell_type": "markdown",
   "id": "1fb261e6-b99b-4e36-953a-e899da010469",
   "metadata": {},
   "source": [
    "8) After working through this problem, in at least two sentences, describe the difference between a list and an array."
   ]
  },
  {
   "cell_type": "code",
   "execution_count": 24,
   "id": "d702ddad-c84d-43d5-9fe0-d10b9083bf85",
   "metadata": {},
   "outputs": [],
   "source": [
    "# Your code here\n",
    "\n",
    "# Lists seem to be built into python while arrays utilize NumPy to be implemented into Python. Lists can list out more than just numbers but fail when it comes to computations. Arrays on the other hand excel at computational tasks."
   ]
  },
  {
   "cell_type": "markdown",
   "id": "fdbccced-d3f0-4948-be6e-471028979576",
   "metadata": {},
   "source": [
    "## 1.2 Nested List and Multi-Dimensional Arrays\n",
    "A **nested list** is when you have a list as an element for a list. Example:\n",
    "```\n",
    "nested_list = [[1, 2, 3], [4, 5, 6]]\n",
    "```\n",
    "\n",
    "A **multi-dimensional array** is essentially a nested list, but it contains the properties of a matrix. Example:\n",
    "```\n",
    "multi_d_array = np.array([[1, 2, 3], [4, 5, 6]])\n",
    "```\n",
    "\n",
    "Go to this website for more information on NumPy: https://www.w3schools.com/python/numpy/default.asp\n",
    "\n",
    "Write a **function** that takes in a two-dimensional array. Example:\n",
    "\n",
    "```\n",
    "arr3 = np.array([[2, 4, 6], [8, 10, 12], [14, 16, 18]])\n",
    "```\n",
    "\n",
    "and then returns the second value in each row. Example:\n",
    "\n",
    "```\n",
    "[4, 10, 16]\n",
    "```"
   ]
  },
  {
   "cell_type": "code",
   "execution_count": 42,
   "id": "e6d45993-2390-4e2d-bb6e-930919dd7d46",
   "metadata": {},
   "outputs": [
    {
     "name": "stdout",
     "output_type": "stream",
     "text": [
      "[2, 12, 22]\n"
     ]
    }
   ],
   "source": [
    "# Your code here\n",
    "\n",
    "def get_second_values(arr):\n",
    "    # Taking the second element of each row\n",
    "    return [row[1] for row in arr]\n",
    "\n",
    "arr3 = np.array([[1, 2, 3], [11, 12, 13], [21, 22, 23]])\n",
    "result = get_second_values(arr3)\n",
    "print(result)"
   ]
  },
  {
   "cell_type": "markdown",
   "id": "e5c0700d-def9-4afe-86f5-0a4b8862c0b4",
   "metadata": {},
   "source": [
    "In 2-3 sentences, describe what section of the website helped you write your function. "
   ]
  },
  {
   "cell_type": "code",
   "execution_count": 43,
   "id": "179c2c8d-3493-40a5-931f-7a92be8551a6",
   "metadata": {},
   "outputs": [],
   "source": [
    "# Your comment here\n",
    "\n",
    "# The section NumPy Array Indexing helped me write my function. There was an example in which an element in the first row, second column was accessed so I copied that structure."
   ]
  },
  {
   "cell_type": "markdown",
   "id": "2bee5ead-232c-495c-8e42-1721bd315957",
   "metadata": {},
   "source": [
    "How would you take a nested list and return the second value in each row? Explain in 2-3 sentences and show an example."
   ]
  },
  {
   "cell_type": "code",
   "execution_count": 45,
   "id": "987ae0dc-a876-4bdf-8707-06f26c2bd32c",
   "metadata": {},
   "outputs": [
    {
     "name": "stdout",
     "output_type": "stream",
     "text": [
      "[2, 5, 8]\n"
     ]
    }
   ],
   "source": [
    "# We would set it up similarly to the two-dimensional awway. We would define the nested list and then have it print the second value in each row.\n",
    "\n",
    "def get_second_values_from_nested_list(nested_list):\n",
    "    # Iterate and return the second element of each row\n",
    "    return [row[1] for row in nested_list]\n",
    "\n",
    "nested_list = [[1, 2, 3], [4, 5, 6], [7, 8, 9]]\n",
    "result = get_second_values_from_nested_list(nested_list)\n",
    "print(result)"
   ]
  },
  {
   "cell_type": "markdown",
   "id": "25eaeadc-b09d-4ca8-9849-822879abdad2",
   "metadata": {},
   "source": [
    "## 1.3 Up to You!\n",
    "With the website I just gave you: https://www.w3schools.com/python/numpy/default.asp\n",
    "\n",
    "I recommend working through the examples they provide (you don't have to do all of them, but a few would be good). It will help you build an intuition for numpy. It won't take very long, there are only a couple of examples per section.\n",
    "\n",
    "Write you own **function** that follows the theme of one of the sections (i.e. array reshaping, array filter, random intro, etc). For example, if you are curious about the section \"**NumPy Creating Arrays**\" you could write a function that creates a multi-dimensional array.\n",
    "\n",
    "```\n",
    "\n",
    ">>> def make_multi_dimensional_array(one_d_array, dimensions):\n",
    "...     # Creates a multi-dimensional array\n",
    "...     # Your code here\n",
    "...     return # Your code here\n",
    "\n",
    ">>> my_one_d_array = [2, 4, 6, 8]\n",
    ">>> my_dimension = 10\n",
    ">>> ten_d_array = make_multi_dimensional_array(my_one_d_array, my_dimension)\n",
    ">>> print(ten_d_array)\n",
    "[[[[[[[[[[2 4 6 8]]]]]]]]]]\n",
    "\n",
    "```\n",
    "\n",
    "Your function should be more detailed than the example I gave you. Include at least one of the following: \n",
    "- a conditional statement\n",
    "- an assignment operator\n",
    "- a loop (`for` or `while`)\n",
    "- `if`, `elif`, `else`, statement"
   ]
  },
  {
   "cell_type": "code",
   "execution_count": 46,
   "id": "359f524a-30ee-446c-a6d6-a57faecf5bcb",
   "metadata": {},
   "outputs": [
    {
     "name": "stdout",
     "output_type": "stream",
     "text": [
      "[1 2 3]\n",
      "[4 5 6]\n",
      "[7 8 9]\n",
      "[10 11 12]\n"
     ]
    }
   ],
   "source": [
    "# Your code here\n",
    "\n",
    "def reshape_and_print(arr):\n",
    "    # Gets the number of elements in a array\n",
    "    num_elements = arr.size\n",
    "    \n",
    "    # if, elif, else conditions\n",
    "    if num_elements == 12:\n",
    "        reshaped_arr = arr.reshape(4, 3)\n",
    "    elif num_elements % 3 == 0:\n",
    "        reshaped_arr = arr.reshape(3, -1)\n",
    "    else:\n",
    "        reshaped_arr = arr.reshape(2, -1)\n",
    "    \n",
    "    # Loops through each row and prints\n",
    "    for row in reshaped_arr:\n",
    "        print(row)\n",
    "        \n",
    "    return reshaped_arr\n",
    "    \n",
    "arr = np.array([1, 2, 3, 4, 5, 6, 7, 8, 9, 10, 11, 12])\n",
    "reshaped = reshape_and_print(arr)"
   ]
  },
  {
   "cell_type": "markdown",
   "id": "88df7c51-0196-42b5-aabf-5068bc6ad675",
   "metadata": {},
   "source": [
    "In the section you took inspiration from, show all of the examples below. Follow good coding practices and give at least two test cases for each example. Don't forget comments! \\\n",
    "\\\n",
    "*For my example, I took inspiration from **NumPy Creating Arrays** so I would show following examples with DIFFERENT test cases: Create a NumPy ndarray Object, Dimensions in Arrays ,0-D Arrays, 1-D Arrays, 2-D Arrays, 3-D Arrays, Check Number of Dimensions, Higher Dimensional Arrays.*"
   ]
  },
  {
   "cell_type": "code",
   "execution_count": 58,
   "id": "193b91b8-de1d-4aee-af90-6a0e10930b55",
   "metadata": {},
   "outputs": [
    {
     "name": "stdout",
     "output_type": "stream",
     "text": [
      "[[11 12 13]\n",
      " [14 15 16]\n",
      " [17 18 19]\n",
      " [20 21 22]]\n",
      "[[ -1  -2  -3]\n",
      " [ -4  -5  -6]\n",
      " [ -7  -8  -9]\n",
      " [-10 -11 -12]]\n",
      "[[[12 11]\n",
      "  [10  9]\n",
      "  [ 8  7]]\n",
      "\n",
      " [[ 6  5]\n",
      "  [ 4  3]\n",
      "  [ 2  1]]]\n",
      "[[[ 2  4]\n",
      "  [ 6  8]\n",
      "  [10 12]]\n",
      "\n",
      " [[14 16]\n",
      "  [18 20]\n",
      "  [22 24]]]\n",
      "[ 2  4  6  8 10 12 14 16]\n",
      "[8 7 6 5 4 3 2 1]\n",
      "[[[ 2  4]\n",
      "  [ 6  8]]\n",
      "\n",
      " [[10 12]\n",
      "  [14 16]]]\n",
      "[[[ 1  3]\n",
      "  [ 5  7]]\n",
      "\n",
      " [[ 9 12]\n",
      "  [15 18]]]\n",
      "[6 5 4 3 2 1]\n",
      "[2 4 6 1 3 5]\n"
     ]
    }
   ],
   "source": [
    "# Your code here\n",
    "\n",
    "# Reshaping From 1D to 2D\n",
    "arr = np.array([11, 12, 13, 14, 15, 16, 17, 18, 19, 20, 21, 22])\n",
    "newarr = arr.reshape(4, 3)\n",
    "print(newarr)\n",
    "\n",
    "arr = np.array([-1, -2, -3, -4, -5, -6, -7, -8, -9, -10, -11, -12])\n",
    "newarr = arr.reshape(4, 3)\n",
    "print(newarr)\n",
    "\n",
    "# Reshaping From 1D to 3D\n",
    "arr = np.array([12, 11, 10, 9, 8, 7, 6, 5, 4, 3, 2, 1])\n",
    "newarr = arr.reshape(2, 3, 2)\n",
    "print(newarr)\n",
    "\n",
    "arr = np.array([2, 4, 6, 8, 10, 12, 14, 16, 18, 20, 22, 24])\n",
    "newarr = arr.reshape(2, 3, 2)\n",
    "print(newarr)\n",
    "\n",
    "# Reshaping it into any shape (attempt)\n",
    "# arr = np.array([1, 3, 5, 7, 9, 12, 15, 18])\n",
    "# newarr = arr.reshape(3, 3)\n",
    "# print(newarr)\n",
    "\n",
    "# arr = np.array([8, 7, 6, 5, 4, 3, 2, 1])\n",
    "# newarr = arr.reshape(3, 3)\n",
    "# print(newarr)\n",
    "\n",
    "# Returning a copy or a view\n",
    "arr = np.array([2, 4, 6, 8, 10, 12, 14, 16])\n",
    "print(arr.reshape(2, 4).base)\n",
    "\n",
    "arr = np.array([8, 7, 6, 5, 4, 3, 2, 1])\n",
    "print(arr.reshape(2, 4).base)\n",
    "\n",
    "# Unkown Dimensions\n",
    "arr = np.array([2, 4, 6, 8, 10, 12, 14, 16])\n",
    "newarr = arr.reshape(2, 2, -1)\n",
    "print(newarr)\n",
    "\n",
    "arr = np.array([1, 3, 5, 7, 9, 12, 15, 18])\n",
    "newarr = arr.reshape(2, 2, -1)\n",
    "print(newarr)\n",
    "\n",
    "#Flattening to a 1D Array\n",
    "arr = np.array([[6, 5, 4], [3, 2, 1]])\n",
    "newarr = arr.reshape(-1)\n",
    "print(newarr)\n",
    "\n",
    "arr = np.array([[2, 4, 6], [1, 3, 5]])\n",
    "newarr = arr.reshape(-1)\n",
    "print(newarr)"
   ]
  },
  {
   "cell_type": "markdown",
   "id": "c90148dc-cac4-4322-86ff-5b112bae306f",
   "metadata": {},
   "source": [
    "In 2-3 sentences, describe how your function took inspiration from a section.\\\n",
    "\\\n",
    "*For my example, `make_multi_dimensional_array`, I would talk about the **NumPy Creating Arrays** section and how I took inspiration from the example **Higher Dimensional Arrays**.*"
   ]
  },
  {
   "cell_type": "code",
   "execution_count": 59,
   "id": "fe11ac2d-dcdb-4e51-9460-c3cc1be48bef",
   "metadata": {},
   "outputs": [],
   "source": [
    "# Your comment here\n",
    "\n",
    "# For my example, 'reshape_and_print', I looked at the NumPy Array Reshaping section and took inspiration from the reshaping from 1D to 2D example."
   ]
  },
  {
   "cell_type": "markdown",
   "id": "8a834fd4-ef1b-4464-a07a-76e08a1c81c8",
   "metadata": {},
   "source": [
    "# 2 Brianna's Module\n",
    "During lecture we created and worked with a module called `even_sum.py`. Import that module here. "
   ]
  },
  {
   "cell_type": "code",
   "execution_count": 16,
   "id": "66e2a829-e478-4c97-8412-846cd93161f8",
   "metadata": {},
   "outputs": [],
   "source": [
    "# Your code here\n",
    "\n",
    "# File: even_sum.py\n",
    "import numpy as np\n",
    "\n",
    "def sum_even_numbers(numbers):\n",
    "    \"Returns the sum of all even numbers in a given list or array.\"\n",
    "\n",
    "    sum = np.sum(num for num in numbers if num % 2 == 0)\n",
    "    return sum"
   ]
  },
  {
   "cell_type": "markdown",
   "id": "210ee2c2-9b81-4ea4-bbe7-2d1fa94d646e",
   "metadata": {},
   "source": [
    "Now that you have imported the module. Call the module and the first function with your own list of numbers. "
   ]
  },
  {
   "cell_type": "code",
   "execution_count": 20,
   "id": "89ad196d-5948-4e20-899a-d31eebdc4f2a",
   "metadata": {},
   "outputs": [
    {
     "name": "stdout",
     "output_type": "stream",
     "text": [
      "30\n"
     ]
    },
    {
     "name": "stderr",
     "output_type": "stream",
     "text": [
      "C:\\Users\\khons\\AppData\\Local\\Temp\\ipykernel_19072\\1295018453.py:7: DeprecationWarning: Calling np.sum(generator) is deprecated, and in the future will give a different result. Use np.sum(np.fromiter(generator)) or the python sum builtin instead.\n",
      "  sum = np.sum(num for num in numbers if num % 2 == 0)\n"
     ]
    }
   ],
   "source": [
    "# Your code here\n",
    "\n",
    "def sum_even_numbers(numbers):\n",
    "    \"\"\"\n",
    "    Returns the sum of all even numbers in a given list or array.\n",
    "    \"\"\"\n",
    "    sum = np.sum(num for num in numbers if num % 2 == 0)\n",
    "    \n",
    "    return sum\n",
    "\n",
    "numbers = np.array([1, 2, 3, 4, 5, 6, 7, 8, 9, 10])\n",
    "print(sum_even_numbers(numbers))"
   ]
  },
  {
   "cell_type": "markdown",
   "id": "110d3cb8-b809-467b-9447-57810e4e3853",
   "metadata": {},
   "source": [
    "I have provided you a separate module called `example.py`. Import that module here."
   ]
  },
  {
   "cell_type": "code",
   "execution_count": 7,
   "id": "092eb2b9-dd15-4fdf-a7a2-ad32cd22ed88",
   "metadata": {},
   "outputs": [],
   "source": [
    "# Your code here\n",
    "\n",
    "# File: example.py\n",
    "\n",
    "import numpy as np\n",
    "\n",
    "G = 6.6743e-11 # Gravitational contanst in m^3 kg^-1 s^-2\n",
    "\n",
    "def escape_velocity(mass, radius):\n",
    "    \"\"\"\n",
    "    Calculates escape velocity of a planet.\n",
    "    v_esc = (2GM/r)^(1/2)\n",
    "\n",
    "    Inputs:\n",
    "    mass (float): mass of the planet in grams\n",
    "    radius (float): radius of the planet in kg\n",
    "\n",
    "    Output:\n",
    "    esc_velocity (float): escape velocity in meters per second\n",
    "    \"\"\"\n",
    "    \n",
    "    result = 2 * G * mass\n",
    "    result /= radius\n",
    "\n",
    "    esc_velocity = np.sqrt(result)\n",
    "    \n",
    "    return esc_velocity\n",
    "\n",
    "def orbital_velocity(mass, radius):\n",
    "    \"\"\"\n",
    "    Calculates orbital velocity of a planet.\n",
    "    v_orb = (GM/r)^(1/2)\n",
    "\n",
    "    Inputs:\n",
    "    mass (float): mass of the planet in kilograms\n",
    "    radius (float): radius of the planet in meters\n",
    "\n",
    "    Output:\n",
    "    orb_velocity (float): orbital velocity in meters per second\n",
    "    \"\"\"\n",
    "\n",
    "    orb_velocity = np.sqrt((G * mass) / radius)\n",
    "    return orb_velocity\n",
    "\n",
    "\n",
    "def rocket_launch(rocket_velocities, mass_of_planet, radius_of_planet):\n",
    "    \"\"\"\n",
    "    Determines if a rocket can escape based on its final velocity.\n",
    "\n",
    "    Inputs:\n",
    "    rocket_velocities (numpy.ndarray): list of rocket velocities in meters per second\n",
    "    mass_of_planet (float): mass of the planet in kilograms\n",
    "    radius_of_planet (float): radius of the planet in meters\n",
    "\n",
    "    Output:\n",
    "    statuses (list): statements for each rocket, describes its status.\n",
    "    \"\"\"\n",
    "\n",
    "    esc_velocity = escape_velocity(mass = mass_of_planet,\n",
    "                                      radius = radius_of_planet)\n",
    "    \n",
    "    orb_velocity = orbital_velocity(mass = mass_of_planet,\n",
    "                                        radius = radius_of_planet)\n",
    "    \n",
    "    statuses = []\n",
    "    for rocket in rocket_velocities:\n",
    "        final_velocity_of_rocket = rocket[-1]\n",
    "        \n",
    "        if final_velocity_of_rocket < orb_velocity:\n",
    "            statement = \"Rocket crashes back into the planet!\"\n",
    "        \n",
    "        elif orb_velocity <= final_velocity_of_rocket < esc_velocity:\n",
    "            statement = \"Rocket is orbiting around the planet.\"\n",
    "        \n",
    "        else:\n",
    "            statement = \"Rocket left the planet!\"\n",
    "\n",
    "        statuses.append(statement)\n",
    "\n",
    "    return statuses"
   ]
  },
  {
   "cell_type": "markdown",
   "id": "a6922f89-01e7-41af-82e2-4236daa103b1",
   "metadata": {},
   "source": [
    "With the following variables, use my module to show which of the rocket's escape!"
   ]
  },
  {
   "cell_type": "code",
   "execution_count": 8,
   "id": "6b2e8b39-8441-469a-a128-19b04b8c8a2f",
   "metadata": {},
   "outputs": [],
   "source": [
    "rocket_velocities = np.array([\n",
    "    [1000, 5000, 8000, 12000],  # Rocket 1's velocity at different times\n",
    "    [2000, 6000, 9000, 10000],  # Rocket 2\n",
    "    [3000, 3100, 3200, 3300]    # Rocket 3\n",
    "])\n",
    "\n",
    "mass_of_planet = 5.972e24 # kilograms\n",
    "radius_of_planet = 6.371e6 # meters"
   ]
  },
  {
   "cell_type": "code",
   "execution_count": 21,
   "id": "05196d65-9e31-4cec-ad01-9f9cebe00046",
   "metadata": {},
   "outputs": [
    {
     "name": "stdout",
     "output_type": "stream",
     "text": [
      "Rocket 1: Rocket left the planet!\n",
      "Rocket 2: Rocket is orbiting around the planet.\n",
      "Rocket 3: Rocket crashes back into the planet!\n"
     ]
    }
   ],
   "source": [
    "# Your code here\n",
    "\n",
    "# Determine rocket outcome\n",
    "outcomes = rocket_launch(rocket_velocities, mass_of_planet, radius_of_planet)\n",
    "\n",
    "for i, outcome in enumerate(outcomes):\n",
    "    print(f\"Rocket {i+1}: {outcome}\")"
   ]
  },
  {
   "cell_type": "markdown",
   "id": "9ab3de38-dbd9-438f-a587-67e8777c9c93",
   "metadata": {},
   "source": [
    "In 2-3 sentences describe how this code follows \"good coding practices\" and where there is room for improvement."
   ]
  },
  {
   "cell_type": "code",
   "execution_count": 23,
   "id": "94d49892-e1c0-4e6a-b05d-f9ddf3de4b44",
   "metadata": {},
   "outputs": [],
   "source": [
    "# Your comments here\n",
    "\n",
    "# All the numbers have clear descriptions of what they represent. Overall functions are also well described and the functions are organized and structured. I'm not quite sure where room for improvement lies but variables like sum and result if over used or used too interchangeably could end up becoming confusing."
   ]
  },
  {
   "cell_type": "markdown",
   "id": "2dce5617-a86a-4327-aa99-f29548f3b92c",
   "metadata": {},
   "source": [
    "# 3 Your Turn!\n",
    "Now its your turn to make a module! Choose a topic from a class (could be physics, computer science, nuclear engineering, biology, astronomy, math, or an topic that interests you!) and build a module around it! Look at my module called `example.py` and base your structure around it. Your module NEEDS to include the following.\n",
    "\n",
    "Overall:\n",
    "1) Your module needs to use at least one NumPy function: https://numpy.org/devdocs/reference/routines.math.html\n",
    "2) Your module needs to contain a multi-dimensional array: https://numpy.org/devdocs/reference/arrays.ndarray.html \n",
    "3) Your module needs **at least** three functions that follow good coding practices.\n",
    "4) Inside your function, include comments. Don't forget to describe what the function is doing and what the inputs and outputs are.\n",
    "5) Your module needs either a `for` loop or `while` loop.\n",
    "6) Your module needs an `if`, `elif`, and `else` statement.\n",
    "7) Your module needs at least two assignment variables (`+=`, `*=`, etc).\n",
    "8) Creativity. *If it looks like you plugged this whole thing into ChatGPT, I will take off points. You can use ChatGPT to help you code, but you can't use it to just do your homework for you. That's no fun :(*\n",
    "\n",
    "In 2-3 sentences, describe the topic of your module and its capabilities. "
   ]
  },
  {
   "cell_type": "code",
   "execution_count": 26,
   "id": "0db7310e-b286-4ce7-aa0b-c211e243b7d6",
   "metadata": {},
   "outputs": [],
   "source": [
    "# Your comment here\n",
    "\n",
    "# I am interested in chemistry as well as physics so I wanted to make a module that would display the results of a chemical reaction.\n",
    "# Water is one of the most basic molecules in chemistry as it is used in dilution, solution creation, combustion reactions, and more.\n",
    "# Chemistry I'd say is most known for chemical reactions so I wanted to describe and simulate a module that would tell me about the limiting reactant of an equation involving water as limiting reactants determine how much product is created in a reaction."
   ]
  },
  {
   "cell_type": "markdown",
   "id": "f9ec7fbd-1d6d-4c08-8528-e9cdaa7e3f6b",
   "metadata": {},
   "source": [
    "In 2-3 sentences, answer the following. What was the most challenging part of building this module? What did you learn in the process that you can apply to future coding assignments?"
   ]
  },
  {
   "cell_type": "code",
   "execution_count": 30,
   "id": "19898c20-2adb-4011-b95e-1da864f7801a",
   "metadata": {},
   "outputs": [],
   "source": [
    "# Your comment here\n",
    "\n",
    "# Chemistry was a LOT harder to build a module for than I expected. On top of the basic stoichiometry and calculations for determining the limiting reactant, I also had to write small notes at each step to describe processes and there were a lot of small niche codes that I had to include that I didn't know existed.\n",
    "# I unfortunately had to rely heavily on ChatGPT and online examples to help me write this module.\n",
    "# It was nice in the to actual have a structured module that let me see my functions and steps from an organized perspective\n",
    "# Next time I would work with an easier topic and learn a lot more about numpy before taking on this task. I did learn lot about numpy from the tutorial website but I feel like it wasn't enough to make me prepared for this task."
   ]
  },
  {
   "cell_type": "markdown",
   "id": "85e943ab-1036-46bc-b9fb-da4ab1890816",
   "metadata": {},
   "source": [
    "Once your module is complete, import it here."
   ]
  },
  {
   "cell_type": "markdown",
   "id": "ac42ebd4-e51b-4be4-aaa7-6c7d550abd30",
   "metadata": {},
   "source": [
    "Call each of your functions in the cell below. Make sure to show the outputs! "
   ]
  },
  {
   "cell_type": "code",
   "execution_count": 28,
   "id": "fb9821b1-3cc0-4999-97eb-441571bbd5e1",
   "metadata": {},
   "outputs": [
    {
     "ename": "ValueError",
     "evalue": "operands could not be broadcast together with shapes (2,) (4,) ",
     "output_type": "error",
     "traceback": [
      "\u001b[1;31m---------------------------------------------------------------------------\u001b[0m",
      "\u001b[1;31mValueError\u001b[0m                                Traceback (most recent call last)",
      "Cell \u001b[1;32mIn[28], line 89\u001b[0m\n\u001b[0;32m     87\u001b[0m \u001b[38;5;66;03m# Molar Mass of H2O formed\u001b[39;00m\n\u001b[0;32m     88\u001b[0m compound \u001b[38;5;241m=\u001b[39m np\u001b[38;5;241m.\u001b[39marray([\u001b[38;5;241m2\u001b[39m, \u001b[38;5;241m1\u001b[39m])  \u001b[38;5;66;03m# 2 Hydrogen atoms, 1 Oxygen atom\u001b[39;00m\n\u001b[1;32m---> 89\u001b[0m water_molar_mass \u001b[38;5;241m=\u001b[39m calculate_molar_mass(compound)\n",
      "Cell \u001b[1;32mIn[28], line 21\u001b[0m, in \u001b[0;36mcalculate_molar_mass\u001b[1;34m(compound)\u001b[0m\n\u001b[0;32m     11\u001b[0m \u001b[38;5;250m\u001b[39m\u001b[38;5;124;03m\"\"\"\u001b[39;00m\n\u001b[0;32m     12\u001b[0m \u001b[38;5;124;03mCalculates the molar mass of a compound given the number of moles of each element.\u001b[39;00m\n\u001b[0;32m     13\u001b[0m \n\u001b[1;32m   (...)\u001b[0m\n\u001b[0;32m     18\u001b[0m \u001b[38;5;124;03mmolar_mass (float): Molar mass of the compound in grams/mol.\u001b[39;00m\n\u001b[0;32m     19\u001b[0m \u001b[38;5;124;03m\"\"\"\u001b[39;00m\n\u001b[0;32m     20\u001b[0m \u001b[38;5;66;03m# Calculates molar mass\u001b[39;00m\n\u001b[1;32m---> 21\u001b[0m molar_mass \u001b[38;5;241m=\u001b[39m np\u001b[38;5;241m.\u001b[39msum(compound \u001b[38;5;241m*\u001b[39m molar_masses)\n\u001b[0;32m     22\u001b[0m \u001b[38;5;28;01mreturn\u001b[39;00m molar_mass\n",
      "\u001b[1;31mValueError\u001b[0m: operands could not be broadcast together with shapes (2,) (4,) "
     ]
    }
   ],
   "source": [
    "# Your code here\n",
    "\n",
    "import numpy as np\n",
    "\n",
    "# Molar Masses in Grams/Mol\n",
    "# Elements involved are: H, O, Ar, Na\n",
    "molar_masses = np.array([1.008, 15.999, 39.948, 22.990])\n",
    "\n",
    "# Molar Masses Based on Composition\n",
    "def calculate_molar_mass(compound: np.ndarray) -> float:\n",
    "    \"\"\"\n",
    "    Calculates the molar mass of a compound given the number of moles of each element.\n",
    "\n",
    "    Inputs:\n",
    "    compound (numpy.ndarray): Array representing the number of moles of each element in the compound.\n",
    "\n",
    "    Output:\n",
    "    molar_mass (float): Molar mass of the compound in grams/mol.\n",
    "    \"\"\"\n",
    "    # Calculates molar mass\n",
    "    molar_mass = np.sum(compound * molar_masses)\n",
    "    return molar_mass\n",
    "\n",
    "# Stoichiometry \n",
    "def calculate_product(reactant_moles: np.ndarray, reaction_ratio: np.ndarray) -> np.ndarray:\n",
    "    \"\"\"\n",
    "    Given initial moles of reactants and ratios of reactants to products,\n",
    "    finds the moles of product formed.\n",
    "\n",
    "    Inputs:\n",
    "    reactant_moles (numpy.ndarray): Array of initial moles of reactants.\n",
    "    reaction_ratio (numpy.ndarray): Array of stoichiometric coefficients of reactants in the balanced equation.\n",
    "\n",
    "    Output:\n",
    "    product_moles (numpy.ndarray): Array of moles of products formed.\n",
    "    \"\"\"\n",
    "    # Dividing Reactant Moles by Reaction Ratio to Get the Limiting Reactant Moles Number\n",
    "    limiting_reactant_moles = reactant_moles / reaction_ratio\n",
    "    \n",
    "    # Amount og Product Formed Based on Limiting Reactant\n",
    "    product_moles = np.min(limiting_reactant_moles)\n",
    "    \n",
    "    return product_moles\n",
    "\n",
    "# actually Determining the Limiting Reactant\n",
    "def find_limiting_reactant(reactant_moles: np.ndarray, reaction_ratio: np.ndarray) -> str:\n",
    "    \"\"\"\n",
    "    Given the initial moles of reactants and the ratios of reactants in a balanced equation,\n",
    "    this function finds the limiting reactant.\n",
    "\n",
    "    Inputs:\n",
    "    reactant_moles (numpy.ndarray): Array of initial moles of reactants.\n",
    "    reaction_ratio (numpy.ndarray): Array of stoichiometric coefficients of reactants in the balanced equation.\n",
    "\n",
    "    Output:\n",
    "    limiting_reactant (str): The name of the limiting reactant.\n",
    "    \"\"\"\n",
    "    # Molar Amount of Product Each Reactant Makes\n",
    "    possible_products = reactant_moles / reaction_ratio\n",
    "    \n",
    "    # Limiting Reactant Based Off Smallest Product\n",
    "    limiting_reactant_index = np.argmin(possible_products)\n",
    "    \n",
    "    # Reactants in Regards to their Index Positions\n",
    "    # These are \"possible\" reactants\n",
    "    reactants = ['H2', 'O2', 'Na', 'Ar']\n",
    "    limiting_reactant = reactants[limiting_reactant_index]\n",
    "    \n",
    "    return limiting_reactant\n",
    "\n",
    "# chemical reaction formula: 2H2 + O2 → 2H2O\n",
    "# Stoichiometry: 2 moles of H2 react with 1 mole of O2 to produce 2 moles of H2O\n",
    "# Reaction ratios for H2 and O2 are 2:1, and H2O (the product) is 2\n",
    "\n",
    "# Initial moles of the reactants in moles\n",
    "# 3 moles of H2, 2 moles of O2, 0 moles of Na, 0 moles of Ar\n",
    "reactant_moles = np.array([3, 2, 0, 0])\n",
    "# Ratio of H2 to O2 mols was 2:1\n",
    "reaction_ratio = np.array([2, 1])  \n",
    "\n",
    "# Product formed from the reactants\n",
    "product_moles = calculate_product(reactant_moles[:2], reaction_ratio)\n",
    "\n",
    "# Calculating the limiting reactant\n",
    "limiting_reactant = find_limiting_reactant(reactant_moles[:2], reaction_ratio)\n",
    "\n",
    "# Molar Mass of H2O formed\n",
    "compound = np.array([2, 1])  # 2 Hydrogen atoms, 1 Oxygen atom\n",
    "water_molar_mass = calculate_molar_mass(compound)"
   ]
  },
  {
   "cell_type": "code",
   "execution_count": 29,
   "id": "b63d3d1f-64bd-4dc7-b20f-c562d09c7c92",
   "metadata": {},
   "outputs": [
    {
     "name": "stdout",
     "output_type": "stream",
     "text": [
      "Moles of product (H2O) formed: 1.5 mol\n",
      "The limiting reactant is: H2\n"
     ]
    },
    {
     "ename": "NameError",
     "evalue": "name 'water_molar_mass' is not defined",
     "output_type": "error",
     "traceback": [
      "\u001b[1;31m---------------------------------------------------------------------------\u001b[0m",
      "\u001b[1;31mNameError\u001b[0m                                 Traceback (most recent call last)",
      "Cell \u001b[1;32mIn[29], line 5\u001b[0m\n\u001b[0;32m      3\u001b[0m \u001b[38;5;28mprint\u001b[39m(\u001b[38;5;124mf\u001b[39m\u001b[38;5;124m\"\u001b[39m\u001b[38;5;124mMoles of product (H2O) formed: \u001b[39m\u001b[38;5;132;01m{\u001b[39;00mproduct_moles\u001b[38;5;132;01m}\u001b[39;00m\u001b[38;5;124m mol\u001b[39m\u001b[38;5;124m\"\u001b[39m)\n\u001b[0;32m      4\u001b[0m \u001b[38;5;28mprint\u001b[39m(\u001b[38;5;124mf\u001b[39m\u001b[38;5;124m\"\u001b[39m\u001b[38;5;124mThe limiting reactant is: \u001b[39m\u001b[38;5;132;01m{\u001b[39;00mlimiting_reactant\u001b[38;5;132;01m}\u001b[39;00m\u001b[38;5;124m\"\u001b[39m)\n\u001b[1;32m----> 5\u001b[0m \u001b[38;5;28mprint\u001b[39m(\u001b[38;5;124mf\u001b[39m\u001b[38;5;124m\"\u001b[39m\u001b[38;5;124mMolar mass of H2O: \u001b[39m\u001b[38;5;132;01m{\u001b[39;00mwater_molar_mass\u001b[38;5;132;01m}\u001b[39;00m\u001b[38;5;124m g/mol\u001b[39m\u001b[38;5;124m\"\u001b[39m)\n",
      "\u001b[1;31mNameError\u001b[0m: name 'water_molar_mass' is not defined"
     ]
    }
   ],
   "source": [
    "# Your code here\n",
    "\n",
    "print(f\"Moles of product (H2O) formed: {product_moles} mol\")\n",
    "print(f\"The limiting reactant is: {limiting_reactant}\")\n",
    "print(f\"Molar mass of H2O: {water_molar_mass} g/mol\")"
   ]
  },
  {
   "cell_type": "markdown",
   "id": "8cf33b19-9bca-484e-8129-d8a4896a1bfa",
   "metadata": {},
   "source": [
    "# 4 Proper Submission\n",
    "To recieve full credit for this assignment make sure you do the following:\n",
    "\n",
    "1) Copy this homework assignment from the `ulab_2024` repository into **YOUR** local `homework7` branch. It will contain this notebook and an additional file called `example.py`. \n",
    "   \n",
    "2) Follow the tasks. Make sure to run all the cells so that **all** output is visible. You will get points taken off if your ouputs are not shown!\n",
    "\n",
    "3) Add/commit/push this notebook and **ANY** modules (so you should have `example.py` and your module) used in this homework assignment to your remote `homework7` branch. Make sure to have NOTHING else in your branch (i.e. no previous homeworks or lecture notes).\n",
    "\n",
    "4) Do the following:\n",
    "- Take a screenshot of moving **into or out** of your `homework7` brach, call it `hw7_branch`.\n",
    "- Take a screenshot of calling `ls` in your `homework7` branch, it should only contain items relevent to homework 7, call it `hw7_ls`.\n",
    "- Take a screenshot of adding this assignment to your local `homework7` branch, call it `hw7_add`.\n",
    "- Take a screenshot of committing this assignment to your local `homework7` branch, call it `hw7_commit`.\n",
    "- Take a screenshot of pushing this assignment to your remote `homework7` branch, call it `hw7_push`. \n",
    "\n",
    "6) Include these screenshots in your `homework7` branch. Upload your `homework7` branch to Gradescope!"
   ]
  }
 ],
 "metadata": {
  "kernelspec": {
   "display_name": "Python 3 (ipykernel)",
   "language": "python",
   "name": "python3"
  },
  "language_info": {
   "codemirror_mode": {
    "name": "ipython",
    "version": 3
   },
   "file_extension": ".py",
   "mimetype": "text/x-python",
   "name": "python",
   "nbconvert_exporter": "python",
   "pygments_lexer": "ipython3",
   "version": "3.12.4"
  }
 },
 "nbformat": 4,
 "nbformat_minor": 5
}
