





# reminder: if a "#" is in front of a line of code, your computer will NOT read it
# have python print the following message by running this cell:
print("Python is awesome!")





age = 20 # this is a variable (specifically an integer)
print("The age is:", age)





year = 2024 # your code here
print("The current year is:", year)





temperature = 98.6 # your code here
print("The temperature is:", temperature)





name = "Andrew" # your code here
print ("My name is:", name)





weekend = False # your code here
print ("It is the weekend:", weekend)





favorite_colors = list = ["black", "orange", "blue"] # your code here
print ("My favorite colors are:", list)





answer = 2 + 2 * 5
print(answer)


num1 = 4
num2 = 6
print(num1 + num2)





radius = 5 # your code here
print(3.14 * radius * radius)





print("Something is wrong")



