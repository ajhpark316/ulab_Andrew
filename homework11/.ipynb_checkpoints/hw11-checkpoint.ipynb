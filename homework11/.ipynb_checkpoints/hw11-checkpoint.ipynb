{
 "cells": [
  {
   "cell_type": "markdown",
   "id": "43ccf68c-d4b2-49e2-9d8e-ed084a253497",
   "metadata": {},
   "source": [
    "# HW 11 - Fall Semester Review\n",
    "ULAB - Physics and Astronomy Division \\\n",
    "Due **Sunday, February 2nd, 2025 at 11:59pm** on Gradescope\n",
    "\n",
    "To prepare for next week’s homework, where we’ll explore exoplanets using **pandas**, this assignment will review fundamental Python concepts within the same theme. "
   ]
  },
  {
   "cell_type": "markdown",
   "id": "8bcba317-e05a-4e81-8117-c301b5bf7d15",
   "metadata": {},
   "source": [
    "## 0 Academic Integrity\n",
    "Please type the following message in the cell below as a comment. Sign with your name.\n",
    "\n",
    "------\n",
    "**I certify that I did not use AI tools, such as ChatGPT, to generate or write code for this assignment. All work submitted is my own and reflects my understanding of the material.**\n",
    "\n",
    "------"
   ]
  },
  {
   "cell_type": "code",
   "execution_count": 6,
   "id": "1194054d-877b-40a6-8b37-d6f6f0567d29",
   "metadata": {},
   "outputs": [],
   "source": [
    "# I certify that I did not use AI tools, such as ChatGPT, to generate or write code for this assignment. All work submitted is my own and reflects my understanding of the material.\n",
    "# Andrew Park"
   ]
  },
  {
   "cell_type": "markdown",
   "id": "2c02945c-b6aa-4d3a-b0e8-670a12b22284",
   "metadata": {},
   "source": [
    "## 1 Functions\n",
    "**Orbital Periods and Kepler's Third Law** \\\n",
    "Kepler's Third Law states that the square of the orbital period $T$ (in years) of a planet is proportional to the cube of the semi-major axis $a$ (in astronomical units, AU):\n",
    "\n",
    "$$\n",
    "T^2 = a^3\n",
    "$$\n",
    "\n",
    "Write a **function** that calculates the orbital period $T$ given the semi-major axis $a$. (So, you can assume that $T = \\sqrt{a^3}$.)"
   ]
  },
  {
   "cell_type": "code",
   "execution_count": 7,
   "id": "5e44b709-80e6-4243-aa0b-f2d1a3c2cbf3",
   "metadata": {},
   "outputs": [],
   "source": [
    "# Your code here (WITHOUT NUMPY! or any other modules/libraries/packages)\n",
    "\n",
    "def orbital_period(a):\n",
    "    T = (a ** 3) ** 0.5 # Orbital Period is found by cubing and then square rooting the semi-major axis a\n",
    "    return T"
   ]
  },
  {
   "cell_type": "markdown",
   "id": "69109c9c-2e52-4e5a-a6b7-99437ac968f4",
   "metadata": {},
   "source": [
    "Call your function with the following values: \n",
    "* `planet_a` $ = 0.5\\,\\text{AU}$\n",
    "* `planet_b` $ = 1.0\\,\\text{AU}$\n",
    "* `planet_c` $ = 1.5\\,\\text{AU}$"
   ]
  },
  {
   "cell_type": "code",
   "execution_count": 8,
   "id": "a1e51eb3-81a7-4c4b-a3f0-81ceabb5e0fa",
   "metadata": {},
   "outputs": [
    {
     "name": "stdout",
     "output_type": "stream",
     "text": [
      "0.3535533905932738\n",
      "1.0\n",
      "1.8371173070873836\n"
     ]
    }
   ],
   "source": [
    "# Your code here\n",
    "\n",
    "# In units of AU\n",
    "planet_a = 0.5 \n",
    "planet_b = 1.0\n",
    "planet_c = 1.5 \n",
    "\n",
    "# Calculating Orbital Period for Each Planet\n",
    "T_planet_a = orbital_period(planet_a)\n",
    "T_planet_b = orbital_period(planet_b)\n",
    "T_planet_c = orbital_period(planet_c)\n",
    "\n",
    "# Outputting Results\n",
    "print(T_planet_a)\n",
    "print(T_planet_b)\n",
    "print(T_planet_c)"
   ]
  },
  {
   "cell_type": "markdown",
   "id": "45135f7c-eb19-43ff-8f02-c7a16d3079b6",
   "metadata": {},
   "source": [
    "Import `numpy` in the cell below."
   ]
  },
  {
   "cell_type": "code",
   "execution_count": 9,
   "id": "8f71cb90-dc81-482c-b166-787e7a6c4f32",
   "metadata": {},
   "outputs": [],
   "source": [
    "# Your code here\n",
    "\n",
    "import numpy as np"
   ]
  },
  {
   "cell_type": "markdown",
   "id": "889fafc4-560b-4483-853e-dde03af740e9",
   "metadata": {},
   "source": [
    "How many times do you need to call numpy in a jupyter notebook? Why?"
   ]
  },
  {
   "cell_type": "code",
   "execution_count": 10,
   "id": "30806788-87ec-4486-81df-79ca3c0f0fda",
   "metadata": {},
   "outputs": [],
   "source": [
    "# Your comment (2 sentences)\n",
    "\n",
    "# You only need to call numpy once. After importing numpy once, all other cellls may utilize it. As long as numpy was called at least once, it will remain active until you close the notebook as numpy is kept in the python memory."
   ]
  },
  {
   "cell_type": "markdown",
   "id": "eb4dc813-39d9-4320-8124-3336c7ce6066",
   "metadata": {},
   "source": [
    "Rewrite your **function** from above with a `numpy` function. "
   ]
  },
  {
   "cell_type": "code",
   "execution_count": 11,
   "id": "6826dbc5-e0d0-4a0d-9e18-bb59d8f7bf9f",
   "metadata": {},
   "outputs": [],
   "source": [
    "# Your code here\n",
    "\n",
    "def orbital_period_with_import(a):\n",
    "    T = np.sqrt(np.power(a, 3)) # Orbital Period is found by cubing and then square rooting the semi-major axis a\n",
    "    return T"
   ]
  },
  {
   "cell_type": "markdown",
   "id": "0f4b4747-9600-4e1a-a4d3-f792a77fc6d5",
   "metadata": {},
   "source": [
    "Import the `time` package in the cell below."
   ]
  },
  {
   "cell_type": "code",
   "execution_count": 12,
   "id": "5df91bc1-f123-47cf-9af9-cf52ea567e88",
   "metadata": {},
   "outputs": [],
   "source": [
    "# Your code here\n",
    "\n",
    "import time"
   ]
  },
  {
   "cell_type": "markdown",
   "id": "7cdb4331-238b-4918-a7b8-3c7b6cb1b9a4",
   "metadata": {},
   "source": [
    "Call both of your functions in the cell below with ($a$ = 5). Time how long it takes each of your functions to run. **DO NOT REWRITE THEM!** "
   ]
  },
  {
   "cell_type": "code",
   "execution_count": 13,
   "id": "e6a99ef3-5aad-4916-b877-5651630e35b3",
   "metadata": {},
   "outputs": [
    {
     "name": "stdout",
     "output_type": "stream",
     "text": [
      "11.180339887498949\n",
      "0.0\n",
      "11.180339887498949\n",
      "0.0\n"
     ]
    }
   ],
   "source": [
    "# Your code here\n",
    "\n",
    "# Value of Semi_major Axis\n",
    "a = 5\n",
    "\n",
    "# Timing the Function without Numpy\n",
    "start_time_basic = time.time()\n",
    "print(orbital_period(a))  # Prints the T value\n",
    "end_time_basic = time.time()\n",
    "basic_time = end_time_basic - start_time_basic\n",
    "print(basic_time) # Prints Time Function Takes\n",
    "\n",
    "# Timing the Function with Numpy\n",
    "start_time_numpy = time.time()\n",
    "print(orbital_period_with_import(a))  # Prints the T value\n",
    "end_time_numpy = time.time()\n",
    "numpy_time = end_time_numpy - start_time_numpy\n",
    "print(numpy_time) # Prints Time Function Takes"
   ]
  },
  {
   "cell_type": "markdown",
   "id": "e2736b3a-533c-4fce-8258-8a7174348a5d",
   "metadata": {},
   "source": [
    "Which function is faster? Why is it faster? What does that tell you about numpy functions?"
   ]
  },
  {
   "cell_type": "code",
   "execution_count": 14,
   "id": "5ba971d4-a2db-4ec2-8992-12727287c4d1",
   "metadata": {},
   "outputs": [],
   "source": [
    "# Your comment here\n",
    "\n",
    "# The function that didn't use numpy was faster. This is likely due to the fact that numpy is optimized for more complex operations. We only used a ** 3 and sqrts in this code."
   ]
  },
  {
   "cell_type": "markdown",
   "id": "6e3c5912-1c81-4e95-b7a7-4b46e6cb45e5",
   "metadata": {},
   "source": [
    "Define a **list** in the cell below that contains a least 1000 semi-major axis values."
   ]
  },
  {
   "cell_type": "code",
   "execution_count": 15,
   "id": "7361896e-e2b3-47af-b386-7e051c2b1917",
   "metadata": {},
   "outputs": [],
   "source": [
    "# Your code here\n",
    "\n",
    "# Evenly Spaced 1000 Semi-Major Axis Values\n",
    "semi_major_axis_values = [1 + i * (3) for i in range(1000)]\n",
    "\n",
    "# Generates 1000 Random\n",
    "semi_major_axes = np.linspace(1, 1000, 1000)"
   ]
  },
  {
   "cell_type": "markdown",
   "id": "912ecdc6-f5b7-4fb5-90ea-7c3486e80c1e",
   "metadata": {},
   "source": [
    "With a **for** loop. Time each of your functions again with this new list. "
   ]
  },
  {
   "cell_type": "code",
   "execution_count": 16,
   "id": "e70d8625-8d45-4cea-bba3-3cba89cb8c68",
   "metadata": {},
   "outputs": [
    {
     "name": "stdout",
     "output_type": "stream",
     "text": [
      "0.0\n",
      "0.0\n"
     ]
    }
   ],
   "source": [
    "# Your code here\n",
    "\n",
    "# Numpy Function Timing\n",
    "start_time_numpy = time.time()\n",
    "end_time_numpy = time.time()\n",
    "numpy_time = end_time_numpy - start_time_numpy\n",
    "\n",
    "# Generates 1000 Random\n",
    "semi_major_axes_numpy = np.linspace(1, 1000, 1000)\n",
    "\n",
    "# Function with For Loop Timing\n",
    "start_time_for_loop = time.time()\n",
    "end_time_for_loop = time.time()\n",
    "for_loop_time = end_time_for_loop - start_time_for_loop\n",
    "\n",
    "# Evenly Spaced 1000 Semi-Major Axis Values\n",
    "semi_major_axes_for_loop = []\n",
    "for i in range(1000):\n",
    "    value = 1 + i * (3) # Finds List Values\n",
    "    semi_major_axes_for_loop.append(value)\n",
    "\n",
    "# Results\n",
    "print(numpy_time)\n",
    "print(for_loop_time)"
   ]
  },
  {
   "cell_type": "markdown",
   "id": "84c8be8c-d27e-43bb-b818-ba2e85a268db",
   "metadata": {},
   "source": [
    "Which function is faster? Why is it faster? What does that tell you about numpy functions?"
   ]
  },
  {
   "cell_type": "code",
   "execution_count": 17,
   "id": "9277953c-0aca-4f70-83b9-cd34627e85af",
   "metadata": {},
   "outputs": [],
   "source": [
    "# Your code here\n",
    "\n",
    "# Numpy is faster and is optimized for more complex tasks and operations. Loops are not optimized for calculations."
   ]
  },
  {
   "cell_type": "markdown",
   "id": "0d205e5d-23ac-47cd-98cc-a0a6c8b9d0ce",
   "metadata": {},
   "source": [
    "## 2 Indexing + Conditionals\n",
    "\n",
    "You are provided with a list of exoplanet radii (in Earth radii) and their equilibrium temperatures (in Kelvin):\n",
    "\n",
    "`radii = [1.2, 0.8, 1.5, 2.0, 1.0, 0.6]` \\\n",
    "`temperatures = [300, 400, 350, 280, 500, 450]`"
   ]
  },
  {
   "cell_type": "markdown",
   "id": "0901186a-b87c-4c6e-9d1e-d846d6b3f825",
   "metadata": {},
   "source": [
    "Write a loop to filter and print the radii of planets with temperatures below 350 K."
   ]
  },
  {
   "cell_type": "code",
   "execution_count": 18,
   "id": "f98b8f8e-1619-4dc6-b398-1f8e07a45d15",
   "metadata": {},
   "outputs": [
    {
     "data": {
      "text/plain": [
       "[1.2, 2.0]"
      ]
     },
     "execution_count": 18,
     "metadata": {},
     "output_type": "execute_result"
    }
   ],
   "source": [
    "# Your code here\n",
    "\n",
    "# Exoplanet Radii and Temperatures\n",
    "radii = [1.2, 0.8, 1.5, 2.0, 1.0, 0.6]\n",
    "temperatures = [300, 400, 350, 280, 500, 450] # Kelvin\n",
    "\n",
    "# Find the planets with temperatures below 350 K\n",
    "def find_planets (temperatures, radii):\n",
    "    filtered_radii = []\n",
    "    for i in range(len(temperatures)):\n",
    "        if temperatures[i] <350:\n",
    "            filtered_radii.append(radii[i])\n",
    "    return filtered_radii\n",
    "\n",
    "find_planets(temperatures, radii)"
   ]
  },
  {
   "cell_type": "markdown",
   "id": "4adddec6-c167-4f9d-ba33-863b1047e8c8",
   "metadata": {},
   "source": [
    "Use list slicing to extract and print the radii of the first three planets."
   ]
  },
  {
   "cell_type": "code",
   "execution_count": 19,
   "id": "3d834fe4-08d5-4955-8a84-5012749d21c4",
   "metadata": {},
   "outputs": [
    {
     "name": "stdout",
     "output_type": "stream",
     "text": [
      "[1.2, 0.8, 1.5]\n"
     ]
    }
   ],
   "source": [
    "# Your code here\n",
    "\n",
    "first_three_planets_radii = radii[:3]\n",
    "print(first_three_planets_radii)"
   ]
  },
  {
   "cell_type": "markdown",
   "id": "45c45290-ca63-4ec9-98da-6d521328ee83",
   "metadata": {},
   "source": [
    "Turn the radii and temperatures data into a dictionary. "
   ]
  },
  {
   "cell_type": "code",
   "execution_count": 20,
   "id": "8bf30f1d-03aa-479f-bebb-6797b85d9430",
   "metadata": {},
   "outputs": [],
   "source": [
    "# Your code here\n",
    "\n",
    "# Radii and Temperature Data Dictionary\n",
    "planet_data = {}\n",
    "for i in range(len(radii)):\n",
    "    planet_data[radii[i]] = temperatures[i]"
   ]
  },
  {
   "cell_type": "markdown",
   "id": "45b492ad-b5c3-4eb7-9a2e-f33f544ea2c6",
   "metadata": {},
   "source": [
    "Give each of the planets in your dictionary a name. "
   ]
  },
  {
   "cell_type": "code",
   "execution_count": 21,
   "id": "6cb88478-2265-4c69-b31d-7e7da0a08328",
   "metadata": {},
   "outputs": [],
   "source": [
    "# Your code here\n",
    "\n",
    "# Planet Names\n",
    "planet_names = [\"Planet A\", \"Planet B\", \"Planet C\", \"Planet D\", \"Planet E\", \"Planet F\"]\n",
    "\n",
    "# Dictionary Pairing\n",
    "planet_data = {}\n",
    "for i in range(len(planet_names)):\n",
    "    planet_data[planet_names[i]] = {radii[i], temperatures[i]}"
   ]
  },
  {
   "cell_type": "markdown",
   "id": "91ab99aa-cdbf-42ac-87d5-9af85a9596c2",
   "metadata": {},
   "source": [
    "Create a new dictionary of planets with radii between 1.0 and 2.0 Earth radii (inclusive)."
   ]
  },
  {
   "cell_type": "code",
   "execution_count": 22,
   "id": "8ee7975f-a9cc-4fd4-87f5-f8ffe8725d9d",
   "metadata": {},
   "outputs": [
    {
     "name": "stdout",
     "output_type": "stream",
     "text": [
      "{'Planet A': (1.2, 300), 'Planet C': (1.5, 350), 'Planet D': (2.0, 280), 'Planet E': (1.0, 500)}\n"
     ]
    }
   ],
   "source": [
    "# Your code here\n",
    "\n",
    "# Dictionary Pairing\n",
    "planet_data = {}\n",
    "for i in range(len(planet_names)):\n",
    "    planet_data[planet_names[i]] = {\"radius\": radii[i], \"temperature\": temperatures[i]}\n",
    "\n",
    "# New Dictionary of Filtered Planets with Radii between 1 and 2 Earth Radii\n",
    "filtered_planets = {name: (data['radius'], data['temperature']) for name, data in planet_data.items() if 1.0 <= data['radius'] <= 2.0}\n",
    "\n",
    "# Print the resulting filtered dictionary\n",
    "print(filtered_planets)"
   ]
  },
  {
   "cell_type": "markdown",
   "id": "8baa7cbf-5e33-4cdc-a5a1-07b7ef24a98a",
   "metadata": {},
   "source": [
    "## 3 NumPy\n",
    "With your 1,000,000 semi-major axes list from Problem 1, convert it to a `numpy` array. "
   ]
  },
  {
   "cell_type": "code",
   "execution_count": 23,
   "id": "933c7543-be50-44d0-8c68-85201242dc70",
   "metadata": {},
   "outputs": [],
   "source": [
    "# Your code here\n",
    "\n",
    "# Generates 1000 Random\n",
    "semi_major_axes = np.linspace(1, 1000, 1000)"
   ]
  },
  {
   "cell_type": "markdown",
   "id": "5fefc872-548b-47d9-b9e3-40166c44b7f8",
   "metadata": {},
   "source": [
    "With `numpy` find the mean, median, minimum and maximum."
   ]
  },
  {
   "cell_type": "code",
   "execution_count": 24,
   "id": "f255500b-0ff6-4869-a18f-4d6b1173f420",
   "metadata": {},
   "outputs": [
    {
     "name": "stdout",
     "output_type": "stream",
     "text": [
      "500.5\n",
      "500.5\n",
      "1000.0\n",
      "1.0\n"
     ]
    }
   ],
   "source": [
    "# Your code here\n",
    "\n",
    "# mean, median, min, max values\n",
    "mean_value = np.mean(semi_major_axes)\n",
    "median_value = np.median(semi_major_axes)\n",
    "max_value = np.max(semi_major_axes)\n",
    "min_value = np.min(semi_major_axes)\n",
    "\n",
    "# Results\n",
    "print(mean_value)\n",
    "print(median_value)\n",
    "print(max_value)\n",
    "print(min_value)"
   ]
  },
  {
   "cell_type": "markdown",
   "id": "f044bf7d-1107-45b3-be82-ba3f5dec380a",
   "metadata": {},
   "source": [
    "Google another `numpy` function and apply it to your data. Explain what it does in a comment."
   ]
  },
  {
   "cell_type": "code",
   "execution_count": 25,
   "id": "c6f86d78-7d9a-4e97-9113-7d9588938738",
   "metadata": {},
   "outputs": [
    {
     "name": "stdout",
     "output_type": "stream",
     "text": [
      "288.6749902572095\n"
     ]
    }
   ],
   "source": [
    "# Your code here\n",
    "\n",
    "# Standard Deviation of the Numpy Array\n",
    "standard_deviation = np.std(semi_major_axes)\n",
    "\n",
    "# Result\n",
    "print(standard_deviation)"
   ]
  },
  {
   "cell_type": "markdown",
   "id": "57100a75-29a0-466c-99ed-067d4c7a3dd6",
   "metadata": {},
   "source": [
    "Turn the radii and temperatures from Problem 2 into a multi-dimensional array."
   ]
  },
  {
   "cell_type": "code",
   "execution_count": 26,
   "id": "a8eb4442-f51d-4d6b-8d4b-766992178fd6",
   "metadata": {},
   "outputs": [],
   "source": [
    "# Your code here\n",
    "\n",
    "# Combine radii and temperature data into one list\n",
    "combined_data = radii + temperatures\n",
    "\n",
    "# Combined List into 2x6 Array\n",
    "planet_data = np.array(combined_data).reshape(2, 6)"
   ]
  },
  {
   "cell_type": "markdown",
   "id": "90eff94a-9b0f-4033-ab6d-33ade45ce039",
   "metadata": {},
   "source": [
    "Use a for loop to print the value on the second row, third column. "
   ]
  },
  {
   "cell_type": "code",
   "execution_count": 27,
   "id": "0f82f846-ffb6-41ee-bca9-8e6929875a7d",
   "metadata": {},
   "outputs": [
    {
     "name": "stdout",
     "output_type": "stream",
     "text": [
      "350.0\n"
     ]
    }
   ],
   "source": [
    "# Your code here\n",
    "\n",
    "# Loop for Finding 2nd Row, 3rd Column Value\n",
    "for row_index in range(planet_data.shape[0]):\n",
    "    for col_index in range(planet_data.shape[1]):\n",
    "        if row_index == 1 and col_index == 2:\n",
    "            print(planet_data[row_index, col_index])"
   ]
  },
  {
   "cell_type": "markdown",
   "id": "5577a243-b856-4c74-9544-eeb4cdc4f116",
   "metadata": {},
   "source": [
    "Use a `numpy` arrive to print the value on the second row, third column. "
   ]
  },
  {
   "cell_type": "code",
   "execution_count": 28,
   "id": "11ac10d4-235a-4e47-b5a6-06dc0ff2ed4a",
   "metadata": {},
   "outputs": [
    {
     "name": "stdout",
     "output_type": "stream",
     "text": [
      "350.0\n"
     ]
    }
   ],
   "source": [
    "# Your code here\n",
    "\n",
    "# Numpy to find 2nd row, 3rd column value\n",
    "print(planet_data[1, 2])"
   ]
  },
  {
   "cell_type": "markdown",
   "id": "c98b3c53-3775-40ce-bb9d-0796eac6cda8",
   "metadata": {},
   "source": [
    "## 4 Plotting\n",
    "Create a scatter plot of the following semi-major axes (x-axis) vs. orbital periods (y-axis). Label the axes, add a legend and add a title: \"Orbital Periods of Exoplanets.\"\n",
    "\n",
    "`semi_major_axes = [0.5, 1.0, 2.0, 1.5, 1.2, 0.8]`"
   ]
  },
  {
   "cell_type": "code",
   "execution_count": 29,
   "id": "78ad21d8-f6e2-43cf-a396-6165badbf331",
   "metadata": {},
   "outputs": [
    {
     "data": {
      "image/png": "[encoded data removed]",
      "text/plain": [
       "<Figure size 640x480 with 1 Axes>"
      ]
     },
     "metadata": {},
     "output_type": "display_data"
    }
   ],
   "source": [
    "# Your code here\n",
    "\n",
    "import matplotlib.pyplot as plt\n",
    "\n",
    "# Semi-Major Axis (X-Axis)\n",
    "semi_major_axes = [0.5, 1.0, 2.0, 1.5, 1.2, 0.8]\n",
    "# Orbital Period (Y-Axis)\n",
    "orbital_periods = [np.sqrt(a**3) for a in semi_major_axes]\n",
    "\n",
    "# Scatter Plot\n",
    "plt.scatter(semi_major_axes, orbital_periods, label=\"Orbital Periods\")\n",
    "# Axes\n",
    "plt.xlabel('Semi-Major Axis (AU)')\n",
    "plt.ylabel('Orbital Period (Years)')\n",
    "# Title\n",
    "plt.title('Orbital Periods of Exoplanets')\n",
    "# Legend\n",
    "plt.legend()\n",
    "# Show Plot\n",
    "plt.show()"
   ]
  },
  {
   "cell_type": "markdown",
   "id": "f4377731-8f55-49fc-a3ed-46f4f7a3756d",
   "metadata": {},
   "source": [
    "Create a bar plot of planet radii vs. their equilibrium temperatures. Label the axes, add a legend and add a title: \"Equilibrium Temperatures vs. Radii.\""
   ]
  },
  {
   "cell_type": "code",
   "execution_count": 30,
   "id": "5d3a42d9-ed7d-4c43-8f76-31b76f2dd870",
   "metadata": {},
   "outputs": [
    {
     "data": {
      "image/png": "[encoded data removed]",
      "text/plain": [
       "<Figure size 640x480 with 1 Axes>"
      ]
     },
     "metadata": {},
     "output_type": "display_data"
    }
   ],
   "source": [
    "# Your code here\n",
    "\n",
    "# Bar Plot\n",
    "plt.bar(radii, temperatures, label='Equilibrium Temperatures')\n",
    "# Axes\n",
    "plt.xlabel('Planet Radii (Earth Radii)')\n",
    "plt.ylabel('Equilibrium Temperature (K)')\n",
    "# Title\n",
    "plt.title('Equilibrium Temperatures vs. Radii')\n",
    "# Legend\n",
    "plt.legend()\n",
    "# Show Plot\n",
    "plt.show()"
   ]
  },
  {
   "cell_type": "markdown",
   "id": "01789974-2e76-4cb4-9756-3db5e6ae163f",
   "metadata": {},
   "source": [
    "Put the scatter plot and bar plot on the same figure (horizonatally). "
   ]
  },
  {
   "cell_type": "code",
   "execution_count": 31,
   "id": "91ffe9f0-8b44-4a57-88a2-d8637f5e60b2",
   "metadata": {},
   "outputs": [
    {
     "data": {
      "image/png": "[encoded data removed]",
      "text/plain": [
       "<Figure size 1200x600 with 2 Axes>"
      ]
     },
     "metadata": {},
     "output_type": "display_data"
    }
   ],
   "source": [
    "# Your code here\n",
    "\n",
    "# Figure and Axes with 2 Plots\n",
    "fig, axs = plt.subplots(1, 2, figsize=(12, 6))\n",
    "\n",
    "# Scatter Plot\n",
    "axs[0].scatter(semi_major_axes, orbital_periods, label=\"Orbital Periods\")\n",
    "axs[0].set_xlabel('Semi-Major Axis (AU)')\n",
    "axs[0].set_ylabel('Orbital Period (Years)')\n",
    "axs[0].set_title('Orbital Periods of Exoplanets')\n",
    "axs[0].legend()\n",
    "\n",
    "# Bar Plot\n",
    "axs[1].bar(radii, temperatures, label='Equilibrium Temperatures')\n",
    "axs[1].set_xlabel('Planet Radii (Earth Radii)')\n",
    "axs[1].set_ylabel('Equilibrium Temperature (K)')\n",
    "axs[1].set_title('Equilibrium Temperatures vs. Radii')\n",
    "axs[1].legend()\n",
    "\n",
    "# Show Plot\n",
    "plt.show()"
   ]
  },
  {
   "cell_type": "markdown",
   "id": "89cca10f-29a4-4f26-a9b3-8afedc5b702a",
   "metadata": {},
   "source": [
    "## 5 Modules\n",
    "Choose a function from this homework and put it into a module. Import the module with the function below. Make sure to show the output."
   ]
  },
  {
   "cell_type": "code",
   "execution_count": 32,
   "id": "23682c98-f7e7-4f16-8c05-8287dd874c82",
   "metadata": {},
   "outputs": [
    {
     "data": {
      "image/png": "[encoded data removed]",
      "text/plain": [
       "<Figure size 640x480 with 1 Axes>"
      ]
     },
     "metadata": {},
     "output_type": "display_data"
    }
   ],
   "source": [
    "# Your code here\n",
    "\n",
    "from Orbital_Calculations import find_orbital_period\n",
    "\n",
    "# X Axis Values\n",
    "semi_major_axes = [0.5, 1.0, 2.0, 1.5, 1.2, 0.8]\n",
    "\n",
    "# Y Axis Values\n",
    "orbital_periods = find_orbital_period(semi_major_axes)\n",
    "\n",
    "# Scatter Plot\n",
    "plt.scatter(semi_major_axes, orbital_periods, label=\"Orbital Periods\")\n",
    "plt.xlabel('Semi-Major Axis (AU)')\n",
    "plt.ylabel('Orbital Period (Years)')\n",
    "plt.title('Orbital Periods of Exoplanets')\n",
    "plt.legend()\n",
    "plt.show()"
   ]
  }
 ],
 "metadata": {
  "kernelspec": {
   "display_name": "Python 3 (ipykernel)",
   "language": "python",
   "name": "python3"
  },
  "language_info": {
   "codemirror_mode": {
    "name": "ipython",
    "version": 3
   },
   "file_extension": ".py",
   "mimetype": "text/x-python",
   "name": "python",
   "nbconvert_exporter": "python",
   "pygments_lexer": "ipython3",
   "version": "3.12.4"
  }
 },
 "nbformat": 4,
 "nbformat_minor": 5
}
