# print () function
print("Hello World!")


# Integer 
type(3)


# Float
type(1.)


# String
type("Andrew")


# Boolean
type(False)


# List
type([1, 2, 3])
type(["Python", 3.14, True])


# Dictionary
type({"color" : "blue"})


# Set
type({1, 2})


# Tuple
type((1, 2))


# Addition
1 + 1


# Subtraction
2 - 1


# Multiply
2 * 3


# Divide
2 / 2


# Floor division
10 // 3


#Modulus


10 % 3


# Exponential
2 ** 3



