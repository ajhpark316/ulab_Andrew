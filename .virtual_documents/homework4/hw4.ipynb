





# Your comments here
# I saw SyntaxError in part 2.1 in which it commented that I was missing parentheses around my what print was actually giving back to me. Syntax Error means that the code cannot be read. I easily fixed this by putting parentheses around what print was giving back to me.
# I saw a NameError in which a certain thing wasn't defined in 2.4. I fixed this by defining the phrase or by making sure the phrase the system was directing me towards was properly spelled.
# I saw another SyntaxError in which it commented that the code couldn't be understood because I was missing commas. I double checked puntuation and fixed this.








# Your code here

# Example
def Operations_with_Two_Numbers(num_1, num_2):
    # Arithemtic Operations with Two Numbers
    # Addition, Subtraction, Multiplication, Division, Floor Division, Remainders, Powers

    operations = num_1 + num_2, num_1 - num_2, num_1 * num_2, num_1 / num_2, num_1 // num_2, num_1 % num_2, num_1 ** num_2
    return operations

num_1 = 10
num_2 = 3
operations = arithmetic_operations(num_1, num_2)
print(operations)

# My Own 1
def Operations_with_Two_Numbers(num_1, num_2):
    # Arithemtic Operations with Two Numbers
    # Addition, Subtraction, Multiplication, Division, Floor Division, Remainders, Powers

    operations = num_1 + num_2, num_1 - num_2, num_1 * num_2, num_1 / num_2, num_1 // num_2, num_1 % num_2, num_1 ** num_2
    return operations

num_1 = 3
num_2 = 4
operations = arithmetic_operations(num_1, num_2)
print(operations)

# My Own 2
def Operations_with_Two_Numbers(num_1, num_2):
    # Arithemtic Operations with Two Numbers
    # Addition, Subtraction, Multiplication, Division, Floor Division, Remainders, Powers

    operations = num_1 + num_2, num_1 - num_2, num_1 * num_2, num_1 / num_2, num_1 // num_2, num_1 % num_2, num_1 ** num_2
    return operations

num_1 = 10
num_2 = 2
operations = arithmetic_operations(num_1, num_2)
print(operations)





# Your thinking process and response here

# So I didn't want to write several lines of code over and over again for every seperate equationso I trid to compress it by having the return of operations give me all the answers at once.
# I set num_1 and num_2 as place holders and was able to just switch out what num_1 and num_2 equaled to essentially copy and paste this code for any two numbers.





# Your code here

# Example
def add_and_multiply(a, b):
    # Increment a number by 5 and then multiply by 3
    # (a + 5) * 3 is the equation
    return increment
    
increment = (a + 5) * 3
a = 10
print(increment)

# My Own 1
def add_and_multiply(a, b):
    # Increment a number by 5 and then multiply by 3
    # (a + 5) * 3 is the equation
    return increment
    
increment = (a + 5) * 3
a = 28
print(increment)

# My Own 2
def add_and_multiply(a, b):
    # Increment a number by 5 and then multiply by 3
    # (a + 5) * 3 is the equation
    return increment
    
increment = (a + 5) * 3
a = 20
print(increment)





# Your thinking process and response here
# So I tried to set up the actual return equation in one line by using parantheses for correct order of operations.
# I found it a bit strange that my answers were returned in reverse order. I'm not sure why. I'm also not sure if increment 5 ment add 5 or something else.
# I'm repeating the same code three times each time and I wonder if there is a way to just write all this code only one time and have it give me three answers with one code set.





# Your code here

# Example
def within_the_bounds(x, a, b):
    # Determing whether or not a number is within a certain range (a, b)
    # a > x > b
    return range

x = 5
range = 1 < x < 10
print(range)

x = 15
range = 1 < x < 10
print(range)

# My Own 1
def within_the_bounds(x, a, b):
    # Determing whether or not a number is within a certain range (a, b)
    # a > x > b
    return range

x = 7
range = 1 < x < 10
print(range)

x = 6
range = 1 < x < 10
print(range)

# Example
def within_the_bounds(x, a, b):
    # Determing whether or not a number is within a certain range (a, b)
    # a > x > b
    return range

x = 11
range = 1 < x < 10
print(range)

x = 28
range = 1 < x < 10
print(range)





# Your thinking process and description here
# It felt weird having to write out what the range and x equaled two times per segment. I think the range can just be written once but I don't remember the code for it. I think the x values can be put in one line as well with a comma maybe.
# I wonder if code could be make true or false questions out of this with code for general statements like the "sky is blue" or like "an apple is purple."





# Your code here

def write_sentence(a, b, c, d, e):
    # constructing a sentence out of components a, b, c, d, e
    # write out the sentence components and have code put them together as my_fav_sentence
    return my_fav_sentence

my_fav_sentence = ' '.join([a, b, c, d, e])

a = "I"
b = "like"
c = "to"
d = "keep"
e = "trinkets"
my_fav_sentence = write_sentence(a, b, c, d, e)
print(my_fav_sentence)








# Your code here
def celsius_to_fahrenheit(celsius):
    # function to convert celsius to fahrenheit
    fahrenheit = (celsius * 9/5) + 32
    return fahrenheit

celsius_temp = 28
fahrenheit_temp = celsius_to_fahrenheit(celsius_temp)
print(f"{celsius_temp}°C is equal to {fahrenheit_temp}°F")


def celsius_to_kelvin(celsius):
    # function to convert celsius to kelvin
    kelvin = celsius + 273.15
    return kelvin

celsius_temp = 30
kelvin_temp = celsius_to_kelvin(celsius_temp)
print(f"{celsius_temp}°C is equal to {kelvin_temp} K")





# Your code here

def celsius_to_fahrenheit(celsius):
    # Function to convert Celsius to Fahrenheit
    fahrenheit = (celsius * 9/5) + 32
    return fahrenheit

def celsius_to_kelvin(celsius):
    # Function to convert Celsius to Kelvin
    kelvin = celsius + 273.15
    return kelvin

def convert_temperature(celsius):
    # Function that calls the above functions
    fahrenheit_temp = celsius_to_fahrenheit(celsius)
    kelvin_temp = celsius_to_kelvin(celsius)
    return fahrenheit_temp, kelvin_temp


celsius_temp = 20
fahrenheit_temp, kelvin_temp = convert_temperature(celsius_temp)
print(f"{celsius_temp}°C is equal to {fahrenheit_temp}°F and {kelvin_temp} K")





def multiple_equations(a, b):
    # Displaying assignment equations
    a += 5
    b += 10
    return a, b

a = 3
b = 4
equations = multiple_equations(a, b)
print(equations)





# Your comment here
