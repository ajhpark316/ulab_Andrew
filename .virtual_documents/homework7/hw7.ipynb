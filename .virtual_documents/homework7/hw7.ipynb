





import numpy as np





# Your code here

my_list = [1, 2, 3, 4, 5]
my_arr = np.array([1, 2, 3, 4, 5])





# Your code here

my_list_multiplied = my_list * 4
print(my_list_multiplied)

my_arr_multiplied = my_arr * 4
print(my_arr_multiplied)

# It appears that while my_arr multiplies the actual values inside of it by 4, my_list instead just repeats the values given four times.





# Your code here

my_list_added = my_list + my_list
my_arr_added = my_arr + my_arr

print(my_list_added)
print(my_arr_added)

# When my_list is added to itself, it just repeats its given values while my_arr actually adds doubles its given values.





# Your code here

# my_list_subtracted = my_list - my_list
my_arr_subtracted = my_arr - my_arr

# print(my_list_subtracted)
print(my_arr_subtracted)

# When I attempt to subtract my_list from my_list, an error occurs while my_arr properly subtracts itself.





# Your code here

# my_list_multiplied_by_my_list = my_list * my_list
my_arr_multiplied_by_my_arr = my_arr * my_arr

# print(my_list_multiplied_by_my_list)
print(my_arr_multiplied_by_my_arr)

# My_list multiplied by my_list gives me an error while my_arr multiplied by my_arr properly squares its values.





# Your code here

# my_list_divided = my_list / my_list
my_arr_divided = my_arr / my_arr

# print(my_list_divided)
print(my_arr_divided)

# Once again, my_list brings up an error when it is divided and my_arr properly divdes it values.





# Your code here

# Lists seem to be built into python while arrays utilize NumPy to be implemented into Python. Lists can list out more than just numbers but fail when it comes to computations. Arrays on the other hand excel at computational tasks.





# Your code here

def get_second_values(arr):
    # Taking the second element of each row
    return [row[1] for row in arr]

arr3 = np.array([[1, 2, 3], [11, 12, 13], [21, 22, 23]])
result = get_second_values(arr3)
print(result)





# Your comment here

# The section NumPy Array Indexing helped me write my function. There was an example in which an element in the first row, second column was accessed so I copied that structure.





# We would set it up similarly to the two-dimensional awway. We would define the nested list and then have it print the second value in each row.

def get_second_values_from_nested_list(nested_list):
    # Iterate and return the second element of each row
    return [row[1] for row in nested_list]

nested_list = [[1, 2, 3], [4, 5, 6], [7, 8, 9]]
result = get_second_values_from_nested_list(nested_list)
print(result)





# Your code here

def reshape_and_print(arr):
    # Gets the number of elements in a array
    num_elements = arr.size
    
    # if, elif, else conditions
    if num_elements == 12:
        reshaped_arr = arr.reshape(4, 3)
    elif num_elements % 3 == 0:
        reshaped_arr = arr.reshape(3, -1)
    else:
        reshaped_arr = arr.reshape(2, -1)
    
    # Loops through each row and prints
    for row in reshaped_arr:
        print(row)
        
    return reshaped_arr
    
arr = np.array([1, 2, 3, 4, 5, 6, 7, 8, 9, 10, 11, 12])
reshaped = reshape_and_print(arr)





# Your code here

# Reshaping From 1D to 2D
arr = np.array([11, 12, 13, 14, 15, 16, 17, 18, 19, 20, 21, 22])
newarr = arr.reshape(4, 3)
print(newarr)

arr = np.array([-1, -2, -3, -4, -5, -6, -7, -8, -9, -10, -11, -12])
newarr = arr.reshape(4, 3)
print(newarr)

# Reshaping From 1D to 3D
arr = np.array([12, 11, 10, 9, 8, 7, 6, 5, 4, 3, 2, 1])
newarr = arr.reshape(2, 3, 2)
print(newarr)

arr = np.array([2, 4, 6, 8, 10, 12, 14, 16, 18, 20, 22, 24])
newarr = arr.reshape(2, 3, 2)
print(newarr)

# Reshaping it into any shape (attempt)
# arr = np.array([1, 3, 5, 7, 9, 12, 15, 18])
# newarr = arr.reshape(3, 3)
# print(newarr)

# arr = np.array([8, 7, 6, 5, 4, 3, 2, 1])
# newarr = arr.reshape(3, 3)
# print(newarr)

# Returning a copy or a view
arr = np.array([2, 4, 6, 8, 10, 12, 14, 16])
print(arr.reshape(2, 4).base)

arr = np.array([8, 7, 6, 5, 4, 3, 2, 1])
print(arr.reshape(2, 4).base)

# Unkown Dimensions
arr = np.array([2, 4, 6, 8, 10, 12, 14, 16])
newarr = arr.reshape(2, 2, -1)
print(newarr)

arr = np.array([1, 3, 5, 7, 9, 12, 15, 18])
newarr = arr.reshape(2, 2, -1)
print(newarr)

#Flattening to a 1D Array
arr = np.array([[6, 5, 4], [3, 2, 1]])
newarr = arr.reshape(-1)
print(newarr)

arr = np.array([[2, 4, 6], [1, 3, 5]])
newarr = arr.reshape(-1)
print(newarr)





# Your comment here

# For my example, 'reshape_and_print', I looked at the NumPy Array Reshaping section and took inspiration from the reshaping from 1D to 2D example.





# Your code here

# File: even_sum.py
import numpy as np

def sum_even_numbers(numbers):
    "Returns the sum of all even numbers in a given list or array."

    sum = np.sum(num for num in numbers if num % 2 == 0)
    return sum





# Your code here

def sum_even_numbers(numbers):
    """
    Returns the sum of all even numbers in a given list or array.
    """
    sum = np.sum(num for num in numbers if num % 2 == 0)
    
    return sum

numbers = np.array([1, 2, 3, 4, 5, 6, 7, 8, 9, 10])
print(sum_even_numbers(numbers))





# Your code here

# File: example.py

import numpy as np

G = 6.6743e-11 # Gravitational contanst in m^3 kg^-1 s^-2

def escape_velocity(mass, radius):
    """
    Calculates escape velocity of a planet.
    v_esc = (2GM/r)^(1/2)

    Inputs:
    mass (float): mass of the planet in grams
    radius (float): radius of the planet in kg

    Output:
    esc_velocity (float): escape velocity in meters per second
    """
    
    result = 2 * G * mass
    result /= radius

    esc_velocity = np.sqrt(result)
    
    return esc_velocity

def orbital_velocity(mass, radius):
    """
    Calculates orbital velocity of a planet.
    v_orb = (GM/r)^(1/2)

    Inputs:
    mass (float): mass of the planet in kilograms
    radius (float): radius of the planet in meters

    Output:
    orb_velocity (float): orbital velocity in meters per second
    """

    orb_velocity = np.sqrt((G * mass) / radius)
    return orb_velocity


def rocket_launch(rocket_velocities, mass_of_planet, radius_of_planet):
    """
    Determines if a rocket can escape based on its final velocity.

    Inputs:
    rocket_velocities (numpy.ndarray): list of rocket velocities in meters per second
    mass_of_planet (float): mass of the planet in kilograms
    radius_of_planet (float): radius of the planet in meters

    Output:
    statuses (list): statements for each rocket, describes its status.
    """

    esc_velocity = escape_velocity(mass = mass_of_planet,
                                      radius = radius_of_planet)
    
    orb_velocity = orbital_velocity(mass = mass_of_planet,
                                        radius = radius_of_planet)
    
    statuses = []
    for rocket in rocket_velocities:
        final_velocity_of_rocket = rocket[-1]
        
        if final_velocity_of_rocket < orb_velocity:
            statement = "Rocket crashes back into the planet!"
        
        elif orb_velocity <= final_velocity_of_rocket < esc_velocity:
            statement = "Rocket is orbiting around the planet."
        
        else:
            statement = "Rocket left the planet!"

        statuses.append(statement)

    return statuses





rocket_velocities = np.array([
    [1000, 5000, 8000, 12000],  # Rocket 1's velocity at different times
    [2000, 6000, 9000, 10000],  # Rocket 2
    [3000, 3100, 3200, 3300]    # Rocket 3
])

mass_of_planet = 5.972e24 # kilograms
radius_of_planet = 6.371e6 # meters


# Your code here

# Determine rocket outcome
outcomes = rocket_launch(rocket_velocities, mass_of_planet, radius_of_planet)

for i, outcome in enumerate(outcomes):
    print(f"Rocket {i+1}: {outcome}")





# Your comments here

# All the numbers have clear descriptions of what they represent. Overall functions are also well described and the functions are organized and structured. I'm not quite sure where room for improvement lies but variables like sum and result if over used or used too interchangeably could end up becoming confusing.





# Your comment here

# I am interested in chemistry as well as physics so I wanted to make a module that would display the results of a chemical reaction.
# Water is one of the most basic molecules in chemistry as it is used in dilution, solution creation, combustion reactions, and more.
# Chemistry I'd say is most known for chemical reactions so I wanted to describe and simulate a module that would tell me about the limiting reactant of an equation involving water as limiting reactants determine how much product is created in a reaction.





# Your comment here

# Chemistry was a LOT harder to build a module for than I expected. On top of the basic stoichiometry and calculations for determining the limiting reactant, I also had to write small notes at each step to describe processes and there were a lot of small niche codes that I had to include that I didn't know existed.
# I unfortunately had to rely heavily on ChatGPT and online examples to help me write this module.
# It was nice in the to actual have a structured module that let me see my functions and steps from an organized perspective
# Next time I would work with an easier topic and learn a lot more about numpy before taking on this task. I did learn lot about numpy from the tutorial website but I feel like it wasn't enough to make me prepared for this task.








# Your code here

import numpy as np

# Molar Masses in Grams/Mol
# Elements involved are: H, O, Ar, Na
molar_masses = np.array([1.008, 15.999, 39.948, 22.990])

# Molar Masses Based on Composition
def calculate_molar_mass(compound: np.ndarray) -> float:
    """
    Calculates the molar mass of a compound given the number of moles of each element.

    Inputs:
    compound (numpy.ndarray): Array representing the number of moles of each element in the compound.

    Output:
    molar_mass (float): Molar mass of the compound in grams/mol.
    """
    # Calculates molar mass
    molar_mass = np.sum(compound * molar_masses)
    return molar_mass

# Stoichiometry 
def calculate_product(reactant_moles: np.ndarray, reaction_ratio: np.ndarray) -> np.ndarray:
    """
    Given initial moles of reactants and ratios of reactants to products,
    finds the moles of product formed.

    Inputs:
    reactant_moles (numpy.ndarray): Array of initial moles of reactants.
    reaction_ratio (numpy.ndarray): Array of stoichiometric coefficients of reactants in the balanced equation.

    Output:
    product_moles (numpy.ndarray): Array of moles of products formed.
    """
    # Dividing Reactant Moles by Reaction Ratio to Get the Limiting Reactant Moles Number
    limiting_reactant_moles = reactant_moles / reaction_ratio
    
    # Amount og Product Formed Based on Limiting Reactant
    product_moles = np.min(limiting_reactant_moles)
    
    return product_moles

# actually Determining the Limiting Reactant
def find_limiting_reactant(reactant_moles: np.ndarray, reaction_ratio: np.ndarray) -> str:
    """
    Given the initial moles of reactants and the ratios of reactants in a balanced equation,
    this function finds the limiting reactant.

    Inputs:
    reactant_moles (numpy.ndarray): Array of initial moles of reactants.
    reaction_ratio (numpy.ndarray): Array of stoichiometric coefficients of reactants in the balanced equation.

    Output:
    limiting_reactant (str): The name of the limiting reactant.
    """
    # Molar Amount of Product Each Reactant Makes
    possible_products = reactant_moles / reaction_ratio
    
    # Limiting Reactant Based Off Smallest Product
    limiting_reactant_index = np.argmin(possible_products)
    
    # Reactants in Regards to their Index Positions
    # These are "possible" reactants
    reactants = ['H2', 'O2', 'Na', 'Ar']
    limiting_reactant = reactants[limiting_reactant_index]
    
    return limiting_reactant

# chemical reaction formula: 2H2 + O2 → 2H2O
# Stoichiometry: 2 moles of H2 react with 1 mole of O2 to produce 2 moles of H2O
# Reaction ratios for H2 and O2 are 2:1, and H2O (the product) is 2

# Initial moles of the reactants in moles
# 3 moles of H2, 2 moles of O2, 0 moles of Na, 0 moles of Ar
reactant_moles = np.array([3, 2, 0, 0])
# Ratio of H2 to O2 mols was 2:1
reaction_ratio = np.array([2, 1])  

# Product formed from the reactants
product_moles = calculate_product(reactant_moles[:2], reaction_ratio)

# Calculating the limiting reactant
limiting_reactant = find_limiting_reactant(reactant_moles[:2], reaction_ratio)

# Molar Mass of H2O formed
compound = np.array([2, 1])  # 2 Hydrogen atoms, 1 Oxygen atom
water_molar_mass = calculate_molar_mass(compound)


# Your code here

print(f"Moles of product (H2O) formed: {product_moles} mol")
print(f"The limiting reactant is: {limiting_reactant}")
print(f"Molar mass of H2O: {water_molar_mass} g/mol")



