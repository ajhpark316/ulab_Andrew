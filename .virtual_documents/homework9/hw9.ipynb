





# IMPORT NECESSARY PACKAGES
import matplotlib.pyplot as plt
import numpy as np 





# Your comment here

def make_new_figure():
    """
    Function will make a new figure.
    Figure will have a specified size of 5x5 inches.
    
    Inputs: None
    Outputs: None
    """
    # Make figure with this size: (5x5 inches)
    plt.figure(figsize=FIGURE_SIZE)

FIGURE_SIZE = (5, 5)  # Size of figure

make_new_figure()





# Your comment here

# x = [1, 2, 3, 4, 5]

def generate_x_and_y_values():
    """
    Function generates two variables: 'x' and 'y'.
    - 'x' has values [1, 2, 3, 4, 5].
    - 'y' has values [2, 4, 6, 8, 10], which are doubled corresponding x values
    
    Inputs: None
    Outputs:
        - x: List containing values [1, 2, 3, 4, 5]
        - y: List containing values [2, 4, 6, 8, 10]
    """
    # Define x with the constant values provided
    x = [1, 2, 3, 4, 5]
    
    # Create y values based on x (y = 2 * x)
    y = [2 * value for value in x]
    
    # List multiplies each element of x by 2 to create corresponding x values
    
    return x, y

x_values, y_values = generate_x_and_y_values()

# Actually plotting
plt.plot(x_values, y_values)  # y vs x plot
plt.xlabel('x')  # Label for x-axis
plt.ylabel('y')  # Label for y-axis
plt.title('Plot of y = 2x')  # Title
plt.show()  # Display





# Your comment here 

# Plot data as line with a specific color, linestyle, and marker
# plt.plot(x_values, y_values, color='blue', linestyle='-', marker='o')  # blue color, solid line, circle marker

# Plot data as points with a specific color, linestyle, and marker
# plt.scatter(x_values, y_values, color='red', marker='x')  # Scatter plot, red color, 'x' marker






# Your comment here





# Your comment here





# Your comment here





# Your comment here





# Your code here





# Your code here





# Your comment here





# Your comment here





# Your comment here





# Your comment here





# Your comment here





# Your code here





# Import your module here





# Your code here





# Your code here





# Your code here





# Import your module and/or your code here





# Your comment here





# Your comment here






