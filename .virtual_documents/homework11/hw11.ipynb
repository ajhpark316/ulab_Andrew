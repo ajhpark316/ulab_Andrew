





# I certify that I did not use AI tools, such as ChatGPT, to generate or write code for this assignment. All work submitted is my own and reflects my understanding of the material.
# Andrew Park





# Your code here (WITHOUT NUMPY! or any other modules/libraries/packages)

def orbital_period(a):
    T = (a ** 3) ** 0.5 # Orbital Period is found by cubing and then square rooting the semi-major axis a
    return T





# Your code here

# In units of AU
planet_a = 0.5 
planet_b = 1.0
planet_c = 1.5 

# Calculating Orbital Period for Each Planet
T_planet_a = orbital_period(planet_a)
T_planet_b = orbital_period(planet_b)
T_planet_c = orbital_period(planet_c)

# Outputting Results
print(T_planet_a)
print(T_planet_b)
print(T_planet_c)





# Your code here

import numpy as np





# Your comment (2 sentences)

# You only need to call numpy once. After importing numpy once, all other cellls may utilize it. As long as numpy was called at least once, it will remain active until you close the notebook as numpy is kept in the python memory.





# Your code here

def orbital_period_with_import(a):
    T = np.sqrt(np.power(a, 3)) # Orbital Period is found by cubing and then square rooting the semi-major axis a
    return T





# Your code here

import time





# Your code here

# Value of Semi_major Axis
a = 5

# Timing the Function without Numpy
start_time_basic = time.time()
print(orbital_period(a))  # Prints the T value
end_time_basic = time.time()
basic_time = end_time_basic - start_time_basic
print(basic_time) # Prints Time Function Takes

# Timing the Function with Numpy
start_time_numpy = time.time()
print(orbital_period_with_import(a))  # Prints the T value
end_time_numpy = time.time()
numpy_time = end_time_numpy - start_time_numpy
print(numpy_time) # Prints Time Function Takes





# Your comment here

# The function that didn't use numpy was faster. This is likely due to the fact that numpy is optimized for more complex operations. We only used a ** 3 and sqrts in this code.





# Your code here

# Evenly Spaced 1000 Semi-Major Axis Values
semi_major_axis_values = [1 + i * (3) for i in range(1000)]

# Generates 1000 Random
semi_major_axes = np.linspace(1, 1000, 1000)





# Your code here

# Numpy Function Timing
start_time_numpy = time.time()
end_time_numpy = time.time()
numpy_time = end_time_numpy - start_time_numpy

# Generates 1000 Random
semi_major_axes_numpy = np.linspace(1, 1000, 1000)

# Function with For Loop Timing
start_time_for_loop = time.time()
end_time_for_loop = time.time()
for_loop_time = end_time_for_loop - start_time_for_loop

# Evenly Spaced 1000 Semi-Major Axis Values
semi_major_axes_for_loop = []
for i in range(1000):
    value = 1 + i * (3) # Finds List Values
    semi_major_axes_for_loop.append(value)

# Results
print(numpy_time)
print(for_loop_time)





# Your code here

# Numpy is faster and is optimized for more complex tasks and operations. Loops are not optimized for calculations.








# Your code here

# Exoplanet Radii and Temperatures
radii = [1.2, 0.8, 1.5, 2.0, 1.0, 0.6]
temperatures = [300, 400, 350, 280, 500, 450] # Kelvin

# Find the planets with temperatures below 350 K
def find_planets (temperatures, radii):
    filtered_radii = []
    for i in range(len(temperatures)):
        if temperatures[i] <350:
            filtered_radii.append(radii[i])
    return filtered_radii

find_planets(temperatures, radii)





# Your code here

first_three_planets_radii = radii[:3]
print(first_three_planets_radii)





# Your code here

# Radii and Temperature Data Dictionary
planet_data = {}
for i in range(len(radii)):
    planet_data[radii[i]] = temperatures[i]





# Your code here

# Planet Names
planet_names = ["Planet A", "Planet B", "Planet C", "Planet D", "Planet E", "Planet F"]

# Dictionary Pairing
planet_data = {}
for i in range(len(planet_names)):
    planet_data[planet_names[i]] = {radii[i], temperatures[i]}





# Your code here

# Dictionary Pairing
planet_data = {}
for i in range(len(planet_names)):
    planet_data[planet_names[i]] = {"radius": radii[i], "temperature": temperatures[i]}

# New Dictionary of Filtered Planets with Radii between 1 and 2 Earth Radii
filtered_planets = {name: (data['radius'], data['temperature']) for name, data in planet_data.items() if 1.0 <= data['radius'] <= 2.0}

# Print the resulting filtered dictionary
print(filtered_planets)





# Your code here

# Generates 1000 Random
semi_major_axes = np.linspace(1, 1000, 1000)





# Your code here

# mean, median, min, max values
mean_value = np.mean(semi_major_axes)
median_value = np.median(semi_major_axes)
max_value = np.max(semi_major_axes)
min_value = np.min(semi_major_axes)

# Results
print(mean_value)
print(median_value)
print(max_value)
print(min_value)





# Your code here

# Standard Deviation of the Numpy Array
standard_deviation = np.std(semi_major_axes)

# Result
print(standard_deviation)





# Your code here

# Combine radii and temperature data into one list
combined_data = radii + temperatures

# Combined List into 2x6 Array
planet_data = np.array(combined_data).reshape(2, 6)





# Your code here

# Loop for Finding 2nd Row, 3rd Column Value
for row_index in range(planet_data.shape[0]):
    for col_index in range(planet_data.shape[1]):
        if row_index == 1 and col_index == 2:
            print(planet_data[row_index, col_index])





# Your code here

# Numpy to find 2nd row, 3rd column value
print(planet_data[1, 2])





# Your code here

import matplotlib.pyplot as plt

# Semi-Major Axis (X-Axis)
semi_major_axes = [0.5, 1.0, 2.0, 1.5, 1.2, 0.8]
# Orbital Period (Y-Axis)
orbital_periods = [np.sqrt(a**3) for a in semi_major_axes]

# Scatter Plot
plt.scatter(semi_major_axes, orbital_periods, label="Orbital Periods")
# Axes
plt.xlabel('Semi-Major Axis (AU)')
plt.ylabel('Orbital Period (Years)')
# Title
plt.title('Orbital Periods of Exoplanets')
# Legend
plt.legend()
# Show Plot
plt.show()





# Your code here

# Bar Plot
plt.bar(radii, temperatures, label='Equilibrium Temperatures')
# Axes
plt.xlabel('Planet Radii (Earth Radii)')
plt.ylabel('Equilibrium Temperature (K)')
# Title
plt.title('Equilibrium Temperatures vs. Radii')
# Legend
plt.legend()
# Show Plot
plt.show()





# Your code here

# Figure and Axes with 2 Plots
fig, axs = plt.subplots(1, 2, figsize=(12, 6))

# Scatter Plot
axs[0].scatter(semi_major_axes, orbital_periods, label="Orbital Periods")
axs[0].set_xlabel('Semi-Major Axis (AU)')
axs[0].set_ylabel('Orbital Period (Years)')
axs[0].set_title('Orbital Periods of Exoplanets')
axs[0].legend()

# Bar Plot
axs[1].bar(radii, temperatures, label='Equilibrium Temperatures')
axs[1].set_xlabel('Planet Radii (Earth Radii)')
axs[1].set_ylabel('Equilibrium Temperature (K)')
axs[1].set_title('Equilibrium Temperatures vs. Radii')
axs[1].legend()

# Show Plot
plt.show()





# Your code here

from Orbital_Calculations import find_orbital_period

# X Axis Values
semi_major_axes = [0.5, 1.0, 2.0, 1.5, 1.2, 0.8]

# Y Axis Values
orbital_periods = find_orbital_period(semi_major_axes)

# Scatter Plot
plt.scatter(semi_major_axes, orbital_periods, label="Orbital Periods")
plt.xlabel('Semi-Major Axis (AU)')
plt.ylabel('Orbital Period (Years)')
plt.title('Orbital Periods of Exoplanets')
plt.legend()
plt.show()
